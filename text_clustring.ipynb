{
  "nbformat": 4,
  "nbformat_minor": 0,
  "metadata": {
    "colab": {
      "provenance": []
    },
    "kernelspec": {
      "name": "python3",
      "display_name": "Python 3"
    },
    "language_info": {
      "name": "python"
    }
  },
  "cells": [
    {
      "cell_type": "markdown",
      "source": [
        "Text clustering, also known as **text clustering or document clustering**, is the process of grouping a set of textual documents into clusters based on their content similarity. The goal is to **organize a large collection of documents** in such a way that documents within the same cluster are more similar to each other in content than to those in other clusters.\n",
        "\n",
        "Here's an overview of the text clustering process:\n",
        "\n",
        "Preprocessing: The textual data is preprocessed to remove noise, irrelevant information, and standardize the text. This typically involves steps such as tokenization, stop word removal, stemming or lemmatization, and normalization.\n",
        "\n",
        "Feature Extraction: Textual data is transformed into a numerical representation suitable for clustering algorithms. Common methods include Bag-of-Words (BoW), Term Frequency-Inverse Document Frequency (TF-IDF), word embeddings (e.g., Word2Vec, GloVe), or topic modeling techniques such as Latent Semantic Analysis (LSA) or Latent Dirichlet Allocation (LDA).\n",
        "\n",
        "Clustering Algorithm Selection: There are various clustering algorithms that can be used for text clustering, including K-means, hierarchical clustering, DBSCAN, spectral clustering, and more. The choice of algorithm depends on factors such as the size and nature of the dataset, the desired number of clusters, and the computational resources available.\n",
        "\n",
        "Clustering: Once the feature representation is obtained and the clustering algorithm is selected, the documents are clustered into groups based on their feature similarity. The algorithm assigns each document to one or more clusters, with documents in the same cluster considered similar to each other.\n",
        "\n",
        "Evaluation: The quality of the clustering results can be assessed using internal metrics (e.g., silhouette score) or external metrics (e.g., purity, F1 score) depending on whether ground truth labels are available.\n",
        "\n",
        "Interpretation and Visualization: After clustering, it's important to interpret the clusters and understand the underlying themes or topics represented by each cluster. Visualization techniques such as t-SNE or PCA can be used to visualize high-dimensional text data in lower-dimensional space for easier interpretation.\n",
        "\n",
        "Text clustering finds applications in various domains such as information retrieval, text summarization, document organization, recommendation systems, and topic modeling, among others. It enables efficient organization and retrieval of textual information, facilitating better decision-making and knowledge discovery from large text datasets."
      ],
      "metadata": {
        "id": "BtIvV28CtPye"
      }
    },
    {
      "cell_type": "code",
      "execution_count": null,
      "metadata": {
        "id": "aqlTR1PTtO3l"
      },
      "outputs": [],
      "source": [
        "import pandas as pd"
      ]
    },
    {
      "cell_type": "code",
      "source": [
        "data= pd.read_csv(\"JEOPARDY_CSV.csv\")\n",
        "data.head()"
      ],
      "metadata": {
        "colab": {
          "base_uri": "https://localhost:8080/",
          "height": 310
        },
        "id": "uT9oNsRrtabT",
        "outputId": "19733d8a-7453-4f89-be23-c161dadfa238"
      },
      "execution_count": null,
      "outputs": [
        {
          "output_type": "execute_result",
          "data": {
            "text/plain": [
              "   Show Number    Air Date      Round                         Category  Value  \\\n",
              "0         4680  2004-12-31  Jeopardy!                          HISTORY   $200   \n",
              "1         4680  2004-12-31  Jeopardy!  ESPN's TOP 10 ALL-TIME ATHLETES   $200   \n",
              "2         4680  2004-12-31  Jeopardy!      EVERYBODY TALKS ABOUT IT...   $200   \n",
              "3         4680  2004-12-31  Jeopardy!                 THE COMPANY LINE   $200   \n",
              "4         4680  2004-12-31  Jeopardy!              EPITAPHS & TRIBUTES   $200   \n",
              "\n",
              "                                            Question      Answer  \n",
              "0  For the last 8 years of his life, Galileo was ...  Copernicus  \n",
              "1  No. 2: 1912 Olympian; football star at Carlisl...  Jim Thorpe  \n",
              "2  The city of Yuma in this state has a record av...     Arizona  \n",
              "3  In 1963, live on \"The Art Linkletter Show\", th...  McDonald's  \n",
              "4  Signer of the Dec. of Indep., framer of the Co...  John Adams  "
            ],
            "text/html": [
              "\n",
              "  <div id=\"df-0fb87a73-1fcf-4c82-99fd-67498ccb0e86\" class=\"colab-df-container\">\n",
              "    <div>\n",
              "<style scoped>\n",
              "    .dataframe tbody tr th:only-of-type {\n",
              "        vertical-align: middle;\n",
              "    }\n",
              "\n",
              "    .dataframe tbody tr th {\n",
              "        vertical-align: top;\n",
              "    }\n",
              "\n",
              "    .dataframe thead th {\n",
              "        text-align: right;\n",
              "    }\n",
              "</style>\n",
              "<table border=\"1\" class=\"dataframe\">\n",
              "  <thead>\n",
              "    <tr style=\"text-align: right;\">\n",
              "      <th></th>\n",
              "      <th>Show Number</th>\n",
              "      <th>Air Date</th>\n",
              "      <th>Round</th>\n",
              "      <th>Category</th>\n",
              "      <th>Value</th>\n",
              "      <th>Question</th>\n",
              "      <th>Answer</th>\n",
              "    </tr>\n",
              "  </thead>\n",
              "  <tbody>\n",
              "    <tr>\n",
              "      <th>0</th>\n",
              "      <td>4680</td>\n",
              "      <td>2004-12-31</td>\n",
              "      <td>Jeopardy!</td>\n",
              "      <td>HISTORY</td>\n",
              "      <td>$200</td>\n",
              "      <td>For the last 8 years of his life, Galileo was ...</td>\n",
              "      <td>Copernicus</td>\n",
              "    </tr>\n",
              "    <tr>\n",
              "      <th>1</th>\n",
              "      <td>4680</td>\n",
              "      <td>2004-12-31</td>\n",
              "      <td>Jeopardy!</td>\n",
              "      <td>ESPN's TOP 10 ALL-TIME ATHLETES</td>\n",
              "      <td>$200</td>\n",
              "      <td>No. 2: 1912 Olympian; football star at Carlisl...</td>\n",
              "      <td>Jim Thorpe</td>\n",
              "    </tr>\n",
              "    <tr>\n",
              "      <th>2</th>\n",
              "      <td>4680</td>\n",
              "      <td>2004-12-31</td>\n",
              "      <td>Jeopardy!</td>\n",
              "      <td>EVERYBODY TALKS ABOUT IT...</td>\n",
              "      <td>$200</td>\n",
              "      <td>The city of Yuma in this state has a record av...</td>\n",
              "      <td>Arizona</td>\n",
              "    </tr>\n",
              "    <tr>\n",
              "      <th>3</th>\n",
              "      <td>4680</td>\n",
              "      <td>2004-12-31</td>\n",
              "      <td>Jeopardy!</td>\n",
              "      <td>THE COMPANY LINE</td>\n",
              "      <td>$200</td>\n",
              "      <td>In 1963, live on \"The Art Linkletter Show\", th...</td>\n",
              "      <td>McDonald's</td>\n",
              "    </tr>\n",
              "    <tr>\n",
              "      <th>4</th>\n",
              "      <td>4680</td>\n",
              "      <td>2004-12-31</td>\n",
              "      <td>Jeopardy!</td>\n",
              "      <td>EPITAPHS &amp; TRIBUTES</td>\n",
              "      <td>$200</td>\n",
              "      <td>Signer of the Dec. of Indep., framer of the Co...</td>\n",
              "      <td>John Adams</td>\n",
              "    </tr>\n",
              "  </tbody>\n",
              "</table>\n",
              "</div>\n",
              "    <div class=\"colab-df-buttons\">\n",
              "\n",
              "  <div class=\"colab-df-container\">\n",
              "    <button class=\"colab-df-convert\" onclick=\"convertToInteractive('df-0fb87a73-1fcf-4c82-99fd-67498ccb0e86')\"\n",
              "            title=\"Convert this dataframe to an interactive table.\"\n",
              "            style=\"display:none;\">\n",
              "\n",
              "  <svg xmlns=\"http://www.w3.org/2000/svg\" height=\"24px\" viewBox=\"0 -960 960 960\">\n",
              "    <path d=\"M120-120v-720h720v720H120Zm60-500h600v-160H180v160Zm220 220h160v-160H400v160Zm0 220h160v-160H400v160ZM180-400h160v-160H180v160Zm440 0h160v-160H620v160ZM180-180h160v-160H180v160Zm440 0h160v-160H620v160Z\"/>\n",
              "  </svg>\n",
              "    </button>\n",
              "\n",
              "  <style>\n",
              "    .colab-df-container {\n",
              "      display:flex;\n",
              "      gap: 12px;\n",
              "    }\n",
              "\n",
              "    .colab-df-convert {\n",
              "      background-color: #E8F0FE;\n",
              "      border: none;\n",
              "      border-radius: 50%;\n",
              "      cursor: pointer;\n",
              "      display: none;\n",
              "      fill: #1967D2;\n",
              "      height: 32px;\n",
              "      padding: 0 0 0 0;\n",
              "      width: 32px;\n",
              "    }\n",
              "\n",
              "    .colab-df-convert:hover {\n",
              "      background-color: #E2EBFA;\n",
              "      box-shadow: 0px 1px 2px rgba(60, 64, 67, 0.3), 0px 1px 3px 1px rgba(60, 64, 67, 0.15);\n",
              "      fill: #174EA6;\n",
              "    }\n",
              "\n",
              "    .colab-df-buttons div {\n",
              "      margin-bottom: 4px;\n",
              "    }\n",
              "\n",
              "    [theme=dark] .colab-df-convert {\n",
              "      background-color: #3B4455;\n",
              "      fill: #D2E3FC;\n",
              "    }\n",
              "\n",
              "    [theme=dark] .colab-df-convert:hover {\n",
              "      background-color: #434B5C;\n",
              "      box-shadow: 0px 1px 3px 1px rgba(0, 0, 0, 0.15);\n",
              "      filter: drop-shadow(0px 1px 2px rgba(0, 0, 0, 0.3));\n",
              "      fill: #FFFFFF;\n",
              "    }\n",
              "  </style>\n",
              "\n",
              "    <script>\n",
              "      const buttonEl =\n",
              "        document.querySelector('#df-0fb87a73-1fcf-4c82-99fd-67498ccb0e86 button.colab-df-convert');\n",
              "      buttonEl.style.display =\n",
              "        google.colab.kernel.accessAllowed ? 'block' : 'none';\n",
              "\n",
              "      async function convertToInteractive(key) {\n",
              "        const element = document.querySelector('#df-0fb87a73-1fcf-4c82-99fd-67498ccb0e86');\n",
              "        const dataTable =\n",
              "          await google.colab.kernel.invokeFunction('convertToInteractive',\n",
              "                                                    [key], {});\n",
              "        if (!dataTable) return;\n",
              "\n",
              "        const docLinkHtml = 'Like what you see? Visit the ' +\n",
              "          '<a target=\"_blank\" href=https://colab.research.google.com/notebooks/data_table.ipynb>data table notebook</a>'\n",
              "          + ' to learn more about interactive tables.';\n",
              "        element.innerHTML = '';\n",
              "        dataTable['output_type'] = 'display_data';\n",
              "        await google.colab.output.renderOutput(dataTable, element);\n",
              "        const docLink = document.createElement('div');\n",
              "        docLink.innerHTML = docLinkHtml;\n",
              "        element.appendChild(docLink);\n",
              "      }\n",
              "    </script>\n",
              "  </div>\n",
              "\n",
              "\n",
              "<div id=\"df-e36a0e5b-9855-4965-919d-9f7c0508ecd3\">\n",
              "  <button class=\"colab-df-quickchart\" onclick=\"quickchart('df-e36a0e5b-9855-4965-919d-9f7c0508ecd3')\"\n",
              "            title=\"Suggest charts\"\n",
              "            style=\"display:none;\">\n",
              "\n",
              "<svg xmlns=\"http://www.w3.org/2000/svg\" height=\"24px\"viewBox=\"0 0 24 24\"\n",
              "     width=\"24px\">\n",
              "    <g>\n",
              "        <path d=\"M19 3H5c-1.1 0-2 .9-2 2v14c0 1.1.9 2 2 2h14c1.1 0 2-.9 2-2V5c0-1.1-.9-2-2-2zM9 17H7v-7h2v7zm4 0h-2V7h2v10zm4 0h-2v-4h2v4z\"/>\n",
              "    </g>\n",
              "</svg>\n",
              "  </button>\n",
              "\n",
              "<style>\n",
              "  .colab-df-quickchart {\n",
              "      --bg-color: #E8F0FE;\n",
              "      --fill-color: #1967D2;\n",
              "      --hover-bg-color: #E2EBFA;\n",
              "      --hover-fill-color: #174EA6;\n",
              "      --disabled-fill-color: #AAA;\n",
              "      --disabled-bg-color: #DDD;\n",
              "  }\n",
              "\n",
              "  [theme=dark] .colab-df-quickchart {\n",
              "      --bg-color: #3B4455;\n",
              "      --fill-color: #D2E3FC;\n",
              "      --hover-bg-color: #434B5C;\n",
              "      --hover-fill-color: #FFFFFF;\n",
              "      --disabled-bg-color: #3B4455;\n",
              "      --disabled-fill-color: #666;\n",
              "  }\n",
              "\n",
              "  .colab-df-quickchart {\n",
              "    background-color: var(--bg-color);\n",
              "    border: none;\n",
              "    border-radius: 50%;\n",
              "    cursor: pointer;\n",
              "    display: none;\n",
              "    fill: var(--fill-color);\n",
              "    height: 32px;\n",
              "    padding: 0;\n",
              "    width: 32px;\n",
              "  }\n",
              "\n",
              "  .colab-df-quickchart:hover {\n",
              "    background-color: var(--hover-bg-color);\n",
              "    box-shadow: 0 1px 2px rgba(60, 64, 67, 0.3), 0 1px 3px 1px rgba(60, 64, 67, 0.15);\n",
              "    fill: var(--button-hover-fill-color);\n",
              "  }\n",
              "\n",
              "  .colab-df-quickchart-complete:disabled,\n",
              "  .colab-df-quickchart-complete:disabled:hover {\n",
              "    background-color: var(--disabled-bg-color);\n",
              "    fill: var(--disabled-fill-color);\n",
              "    box-shadow: none;\n",
              "  }\n",
              "\n",
              "  .colab-df-spinner {\n",
              "    border: 2px solid var(--fill-color);\n",
              "    border-color: transparent;\n",
              "    border-bottom-color: var(--fill-color);\n",
              "    animation:\n",
              "      spin 1s steps(1) infinite;\n",
              "  }\n",
              "\n",
              "  @keyframes spin {\n",
              "    0% {\n",
              "      border-color: transparent;\n",
              "      border-bottom-color: var(--fill-color);\n",
              "      border-left-color: var(--fill-color);\n",
              "    }\n",
              "    20% {\n",
              "      border-color: transparent;\n",
              "      border-left-color: var(--fill-color);\n",
              "      border-top-color: var(--fill-color);\n",
              "    }\n",
              "    30% {\n",
              "      border-color: transparent;\n",
              "      border-left-color: var(--fill-color);\n",
              "      border-top-color: var(--fill-color);\n",
              "      border-right-color: var(--fill-color);\n",
              "    }\n",
              "    40% {\n",
              "      border-color: transparent;\n",
              "      border-right-color: var(--fill-color);\n",
              "      border-top-color: var(--fill-color);\n",
              "    }\n",
              "    60% {\n",
              "      border-color: transparent;\n",
              "      border-right-color: var(--fill-color);\n",
              "    }\n",
              "    80% {\n",
              "      border-color: transparent;\n",
              "      border-right-color: var(--fill-color);\n",
              "      border-bottom-color: var(--fill-color);\n",
              "    }\n",
              "    90% {\n",
              "      border-color: transparent;\n",
              "      border-bottom-color: var(--fill-color);\n",
              "    }\n",
              "  }\n",
              "</style>\n",
              "\n",
              "  <script>\n",
              "    async function quickchart(key) {\n",
              "      const quickchartButtonEl =\n",
              "        document.querySelector('#' + key + ' button');\n",
              "      quickchartButtonEl.disabled = true;  // To prevent multiple clicks.\n",
              "      quickchartButtonEl.classList.add('colab-df-spinner');\n",
              "      try {\n",
              "        const charts = await google.colab.kernel.invokeFunction(\n",
              "            'suggestCharts', [key], {});\n",
              "      } catch (error) {\n",
              "        console.error('Error during call to suggestCharts:', error);\n",
              "      }\n",
              "      quickchartButtonEl.classList.remove('colab-df-spinner');\n",
              "      quickchartButtonEl.classList.add('colab-df-quickchart-complete');\n",
              "    }\n",
              "    (() => {\n",
              "      let quickchartButtonEl =\n",
              "        document.querySelector('#df-e36a0e5b-9855-4965-919d-9f7c0508ecd3 button');\n",
              "      quickchartButtonEl.style.display =\n",
              "        google.colab.kernel.accessAllowed ? 'block' : 'none';\n",
              "    })();\n",
              "  </script>\n",
              "</div>\n",
              "\n",
              "    </div>\n",
              "  </div>\n"
            ],
            "application/vnd.google.colaboratory.intrinsic+json": {
              "type": "dataframe",
              "variable_name": "data"
            }
          },
          "metadata": {},
          "execution_count": 2
        }
      ]
    },
    {
      "cell_type": "code",
      "source": [
        "data.info()"
      ],
      "metadata": {
        "colab": {
          "base_uri": "https://localhost:8080/"
        },
        "id": "NDOnqELOuowQ",
        "outputId": "b7c35fec-543d-493d-9efe-e5004e640f94"
      },
      "execution_count": null,
      "outputs": [
        {
          "output_type": "stream",
          "name": "stdout",
          "text": [
            "<class 'pandas.core.frame.DataFrame'>\n",
            "RangeIndex: 216930 entries, 0 to 216929\n",
            "Data columns (total 7 columns):\n",
            " #   Column       Non-Null Count   Dtype \n",
            "---  ------       --------------   ----- \n",
            " 0   Show Number  216930 non-null  int64 \n",
            " 1    Air Date    216930 non-null  object\n",
            " 2    Round       216930 non-null  object\n",
            " 3    Category    216930 non-null  object\n",
            " 4    Value       216930 non-null  object\n",
            " 5    Question    216930 non-null  object\n",
            " 6    Answer      216928 non-null  object\n",
            "dtypes: int64(1), object(6)\n",
            "memory usage: 11.6+ MB\n"
          ]
        }
      ]
    },
    {
      "cell_type": "code",
      "source": [
        "# for clustring task we need just information of \" question \" feature.\n",
        "x= data[\" Question\"]\n",
        "x.head()"
      ],
      "metadata": {
        "colab": {
          "base_uri": "https://localhost:8080/"
        },
        "id": "JRQirl-ovP3D",
        "outputId": "8cec86f2-b93f-443e-d68f-a9b5d144f275"
      },
      "execution_count": null,
      "outputs": [
        {
          "output_type": "execute_result",
          "data": {
            "text/plain": [
              "0    For the last 8 years of his life, Galileo was ...\n",
              "1    No. 2: 1912 Olympian; football star at Carlisl...\n",
              "2    The city of Yuma in this state has a record av...\n",
              "3    In 1963, live on \"The Art Linkletter Show\", th...\n",
              "4    Signer of the Dec. of Indep., framer of the Co...\n",
              "Name:  Question, dtype: object"
            ]
          },
          "metadata": {},
          "execution_count": 4
        }
      ]
    },
    {
      "cell_type": "code",
      "source": [
        "from sklearn.feature_extraction.text import TfidfVectorizer"
      ],
      "metadata": {
        "id": "5yfrBva4v7CY"
      },
      "execution_count": null,
      "outputs": []
    },
    {
      "cell_type": "code",
      "source": [
        "vectorizer= TfidfVectorizer()\n",
        "vectorizer.fit(data[\" Question\"])"
      ],
      "metadata": {
        "colab": {
          "base_uri": "https://localhost:8080/",
          "height": 75
        },
        "id": "W5kjsvnBwJhV",
        "outputId": "d8a37372-58eb-49d6-a598-2ddceac8c8c0"
      },
      "execution_count": null,
      "outputs": [
        {
          "output_type": "execute_result",
          "data": {
            "text/plain": [
              "TfidfVectorizer()"
            ],
            "text/html": [
              "<style>#sk-container-id-1 {color: black;background-color: white;}#sk-container-id-1 pre{padding: 0;}#sk-container-id-1 div.sk-toggleable {background-color: white;}#sk-container-id-1 label.sk-toggleable__label {cursor: pointer;display: block;width: 100%;margin-bottom: 0;padding: 0.3em;box-sizing: border-box;text-align: center;}#sk-container-id-1 label.sk-toggleable__label-arrow:before {content: \"▸\";float: left;margin-right: 0.25em;color: #696969;}#sk-container-id-1 label.sk-toggleable__label-arrow:hover:before {color: black;}#sk-container-id-1 div.sk-estimator:hover label.sk-toggleable__label-arrow:before {color: black;}#sk-container-id-1 div.sk-toggleable__content {max-height: 0;max-width: 0;overflow: hidden;text-align: left;background-color: #f0f8ff;}#sk-container-id-1 div.sk-toggleable__content pre {margin: 0.2em;color: black;border-radius: 0.25em;background-color: #f0f8ff;}#sk-container-id-1 input.sk-toggleable__control:checked~div.sk-toggleable__content {max-height: 200px;max-width: 100%;overflow: auto;}#sk-container-id-1 input.sk-toggleable__control:checked~label.sk-toggleable__label-arrow:before {content: \"▾\";}#sk-container-id-1 div.sk-estimator input.sk-toggleable__control:checked~label.sk-toggleable__label {background-color: #d4ebff;}#sk-container-id-1 div.sk-label input.sk-toggleable__control:checked~label.sk-toggleable__label {background-color: #d4ebff;}#sk-container-id-1 input.sk-hidden--visually {border: 0;clip: rect(1px 1px 1px 1px);clip: rect(1px, 1px, 1px, 1px);height: 1px;margin: -1px;overflow: hidden;padding: 0;position: absolute;width: 1px;}#sk-container-id-1 div.sk-estimator {font-family: monospace;background-color: #f0f8ff;border: 1px dotted black;border-radius: 0.25em;box-sizing: border-box;margin-bottom: 0.5em;}#sk-container-id-1 div.sk-estimator:hover {background-color: #d4ebff;}#sk-container-id-1 div.sk-parallel-item::after {content: \"\";width: 100%;border-bottom: 1px solid gray;flex-grow: 1;}#sk-container-id-1 div.sk-label:hover label.sk-toggleable__label {background-color: #d4ebff;}#sk-container-id-1 div.sk-serial::before {content: \"\";position: absolute;border-left: 1px solid gray;box-sizing: border-box;top: 0;bottom: 0;left: 50%;z-index: 0;}#sk-container-id-1 div.sk-serial {display: flex;flex-direction: column;align-items: center;background-color: white;padding-right: 0.2em;padding-left: 0.2em;position: relative;}#sk-container-id-1 div.sk-item {position: relative;z-index: 1;}#sk-container-id-1 div.sk-parallel {display: flex;align-items: stretch;justify-content: center;background-color: white;position: relative;}#sk-container-id-1 div.sk-item::before, #sk-container-id-1 div.sk-parallel-item::before {content: \"\";position: absolute;border-left: 1px solid gray;box-sizing: border-box;top: 0;bottom: 0;left: 50%;z-index: -1;}#sk-container-id-1 div.sk-parallel-item {display: flex;flex-direction: column;z-index: 1;position: relative;background-color: white;}#sk-container-id-1 div.sk-parallel-item:first-child::after {align-self: flex-end;width: 50%;}#sk-container-id-1 div.sk-parallel-item:last-child::after {align-self: flex-start;width: 50%;}#sk-container-id-1 div.sk-parallel-item:only-child::after {width: 0;}#sk-container-id-1 div.sk-dashed-wrapped {border: 1px dashed gray;margin: 0 0.4em 0.5em 0.4em;box-sizing: border-box;padding-bottom: 0.4em;background-color: white;}#sk-container-id-1 div.sk-label label {font-family: monospace;font-weight: bold;display: inline-block;line-height: 1.2em;}#sk-container-id-1 div.sk-label-container {text-align: center;}#sk-container-id-1 div.sk-container {/* jupyter's `normalize.less` sets `[hidden] { display: none; }` but bootstrap.min.css set `[hidden] { display: none !important; }` so we also need the `!important` here to be able to override the default hidden behavior on the sphinx rendered scikit-learn.org. See: https://github.com/scikit-learn/scikit-learn/issues/21755 */display: inline-block !important;position: relative;}#sk-container-id-1 div.sk-text-repr-fallback {display: none;}</style><div id=\"sk-container-id-1\" class=\"sk-top-container\"><div class=\"sk-text-repr-fallback\"><pre>TfidfVectorizer()</pre><b>In a Jupyter environment, please rerun this cell to show the HTML representation or trust the notebook. <br />On GitHub, the HTML representation is unable to render, please try loading this page with nbviewer.org.</b></div><div class=\"sk-container\" hidden><div class=\"sk-item\"><div class=\"sk-estimator sk-toggleable\"><input class=\"sk-toggleable__control sk-hidden--visually\" id=\"sk-estimator-id-1\" type=\"checkbox\" checked><label for=\"sk-estimator-id-1\" class=\"sk-toggleable__label sk-toggleable__label-arrow\">TfidfVectorizer</label><div class=\"sk-toggleable__content\"><pre>TfidfVectorizer()</pre></div></div></div></div></div>"
            ]
          },
          "metadata": {},
          "execution_count": 6
        }
      ]
    },
    {
      "cell_type": "code",
      "source": [
        "x= vectorizer.transform(data[\" Question\"])"
      ],
      "metadata": {
        "id": "Y5j0GbJmweEJ"
      },
      "execution_count": null,
      "outputs": []
    },
    {
      "cell_type": "code",
      "source": [
        "x"
      ],
      "metadata": {
        "colab": {
          "base_uri": "https://localhost:8080/"
        },
        "id": "mBLNAmsDwrB4",
        "outputId": "6f8af33d-6022-444c-f2d5-6fb4fb13095e"
      },
      "execution_count": null,
      "outputs": [
        {
          "output_type": "execute_result",
          "data": {
            "text/plain": [
              "<216930x90512 sparse matrix of type '<class 'numpy.float64'>'\n",
              "\twith 2943396 stored elements in Compressed Sparse Row format>"
            ]
          },
          "metadata": {},
          "execution_count": 8
        }
      ]
    },
    {
      "cell_type": "code",
      "source": [
        "from sklearn.cluster import KMeans\n"
      ],
      "metadata": {
        "id": "yHFGMm8_wsB3"
      },
      "execution_count": null,
      "outputs": []
    },
    {
      "cell_type": "code",
      "source": [
        "kmeans=KMeans(n_clusters= 10 , max_iter= 300)\n",
        "kmeans.fit(x)\n"
      ],
      "metadata": {
        "colab": {
          "base_uri": "https://localhost:8080/",
          "height": 129
        },
        "id": "o-pvRq20w8HM",
        "outputId": "1718731a-9db1-4e32-922f-6ecdbf320931"
      },
      "execution_count": null,
      "outputs": [
        {
          "output_type": "stream",
          "name": "stderr",
          "text": [
            "/usr/local/lib/python3.10/dist-packages/sklearn/cluster/_kmeans.py:870: FutureWarning: The default value of `n_init` will change from 10 to 'auto' in 1.4. Set the value of `n_init` explicitly to suppress the warning\n",
            "  warnings.warn(\n"
          ]
        },
        {
          "output_type": "execute_result",
          "data": {
            "text/plain": [
              "KMeans(n_clusters=10)"
            ],
            "text/html": [
              "<style>#sk-container-id-2 {color: black;background-color: white;}#sk-container-id-2 pre{padding: 0;}#sk-container-id-2 div.sk-toggleable {background-color: white;}#sk-container-id-2 label.sk-toggleable__label {cursor: pointer;display: block;width: 100%;margin-bottom: 0;padding: 0.3em;box-sizing: border-box;text-align: center;}#sk-container-id-2 label.sk-toggleable__label-arrow:before {content: \"▸\";float: left;margin-right: 0.25em;color: #696969;}#sk-container-id-2 label.sk-toggleable__label-arrow:hover:before {color: black;}#sk-container-id-2 div.sk-estimator:hover label.sk-toggleable__label-arrow:before {color: black;}#sk-container-id-2 div.sk-toggleable__content {max-height: 0;max-width: 0;overflow: hidden;text-align: left;background-color: #f0f8ff;}#sk-container-id-2 div.sk-toggleable__content pre {margin: 0.2em;color: black;border-radius: 0.25em;background-color: #f0f8ff;}#sk-container-id-2 input.sk-toggleable__control:checked~div.sk-toggleable__content {max-height: 200px;max-width: 100%;overflow: auto;}#sk-container-id-2 input.sk-toggleable__control:checked~label.sk-toggleable__label-arrow:before {content: \"▾\";}#sk-container-id-2 div.sk-estimator input.sk-toggleable__control:checked~label.sk-toggleable__label {background-color: #d4ebff;}#sk-container-id-2 div.sk-label input.sk-toggleable__control:checked~label.sk-toggleable__label {background-color: #d4ebff;}#sk-container-id-2 input.sk-hidden--visually {border: 0;clip: rect(1px 1px 1px 1px);clip: rect(1px, 1px, 1px, 1px);height: 1px;margin: -1px;overflow: hidden;padding: 0;position: absolute;width: 1px;}#sk-container-id-2 div.sk-estimator {font-family: monospace;background-color: #f0f8ff;border: 1px dotted black;border-radius: 0.25em;box-sizing: border-box;margin-bottom: 0.5em;}#sk-container-id-2 div.sk-estimator:hover {background-color: #d4ebff;}#sk-container-id-2 div.sk-parallel-item::after {content: \"\";width: 100%;border-bottom: 1px solid gray;flex-grow: 1;}#sk-container-id-2 div.sk-label:hover label.sk-toggleable__label {background-color: #d4ebff;}#sk-container-id-2 div.sk-serial::before {content: \"\";position: absolute;border-left: 1px solid gray;box-sizing: border-box;top: 0;bottom: 0;left: 50%;z-index: 0;}#sk-container-id-2 div.sk-serial {display: flex;flex-direction: column;align-items: center;background-color: white;padding-right: 0.2em;padding-left: 0.2em;position: relative;}#sk-container-id-2 div.sk-item {position: relative;z-index: 1;}#sk-container-id-2 div.sk-parallel {display: flex;align-items: stretch;justify-content: center;background-color: white;position: relative;}#sk-container-id-2 div.sk-item::before, #sk-container-id-2 div.sk-parallel-item::before {content: \"\";position: absolute;border-left: 1px solid gray;box-sizing: border-box;top: 0;bottom: 0;left: 50%;z-index: -1;}#sk-container-id-2 div.sk-parallel-item {display: flex;flex-direction: column;z-index: 1;position: relative;background-color: white;}#sk-container-id-2 div.sk-parallel-item:first-child::after {align-self: flex-end;width: 50%;}#sk-container-id-2 div.sk-parallel-item:last-child::after {align-self: flex-start;width: 50%;}#sk-container-id-2 div.sk-parallel-item:only-child::after {width: 0;}#sk-container-id-2 div.sk-dashed-wrapped {border: 1px dashed gray;margin: 0 0.4em 0.5em 0.4em;box-sizing: border-box;padding-bottom: 0.4em;background-color: white;}#sk-container-id-2 div.sk-label label {font-family: monospace;font-weight: bold;display: inline-block;line-height: 1.2em;}#sk-container-id-2 div.sk-label-container {text-align: center;}#sk-container-id-2 div.sk-container {/* jupyter's `normalize.less` sets `[hidden] { display: none; }` but bootstrap.min.css set `[hidden] { display: none !important; }` so we also need the `!important` here to be able to override the default hidden behavior on the sphinx rendered scikit-learn.org. See: https://github.com/scikit-learn/scikit-learn/issues/21755 */display: inline-block !important;position: relative;}#sk-container-id-2 div.sk-text-repr-fallback {display: none;}</style><div id=\"sk-container-id-2\" class=\"sk-top-container\"><div class=\"sk-text-repr-fallback\"><pre>KMeans(n_clusters=10)</pre><b>In a Jupyter environment, please rerun this cell to show the HTML representation or trust the notebook. <br />On GitHub, the HTML representation is unable to render, please try loading this page with nbviewer.org.</b></div><div class=\"sk-container\" hidden><div class=\"sk-item\"><div class=\"sk-estimator sk-toggleable\"><input class=\"sk-toggleable__control sk-hidden--visually\" id=\"sk-estimator-id-2\" type=\"checkbox\" checked><label for=\"sk-estimator-id-2\" class=\"sk-toggleable__label sk-toggleable__label-arrow\">KMeans</label><div class=\"sk-toggleable__content\"><pre>KMeans(n_clusters=10)</pre></div></div></div></div></div>"
            ]
          },
          "metadata": {},
          "execution_count": 10
        }
      ]
    },
    {
      "cell_type": "code",
      "source": [
        "kmeans.inertia_\n",
        "\n",
        "#"
      ],
      "metadata": {
        "colab": {
          "base_uri": "https://localhost:8080/"
        },
        "id": "YdPbOpSqxifo",
        "outputId": "2969c2bb-5bfc-434c-b44b-b195238dc6af"
      },
      "execution_count": null,
      "outputs": [
        {
          "output_type": "execute_result",
          "data": {
            "text/plain": [
              "209811.1565683932"
            ]
          },
          "metadata": {},
          "execution_count": 11
        }
      ]
    },
    {
      "cell_type": "markdown",
      "source": [
        "In the context of the K-means algorithm, inertia refers to the sum of squared distances between each data point and its nearest cluster centroid. It is also known as within-cluster sum of squares (WCSS).\n",
        "\n",
        "Mathematically, the inertia I of a clustering solution with k clusters is calculated as:"
      ],
      "metadata": {
        "id": "Jd2nLAv7yjFD"
      }
    },
    {
      "cell_type": "markdown",
      "source": [
        "![image.png](data:image/png;base64,iVBORw0KGgoAAAANSUhEUgAAAvUAAAFACAYAAAA8rYPWAAAgAElEQVR4Ae29P4sbydf3fb+BfhcTTG6Hyx14wh2uYAc28MDCz7CBERss8wvMsMEiHFwMDgbhwGIDIzYwzIJBGxjkYBknBg0PZpYbgxwYxjCBAgcKBhQ4OA/VXVVdVV3dammk0b+PYaxWddWpcz6n1Pp2dXXr/wj/IAABCEAAAhCAAAQgAIG1JvB/1tp7nIcABCAAAQhAAAIQgAAEBFHPIIAABCAAAQhAAAIQgMCaE0DUr3kCcR8CEIAABCAAAQhAAAKIesYABCAAAQhAAAIQgAAE1pwAon7NE4j7EIAABCAAAQhAAAIQQNQzBiAAAQhAAAIQgAAEILDmBBD1a55A3IcABCAAAQhAAAIQgACinjEAAQhAAAIQgAAEIACBNSeAqF/zBOI+BCAAAQhAAAIQgAAEEPWMAQhAAAIQgAAEIAABCKw5AUT9micQ9yEAAQhAAAIQgAAEIICoZwxAAAIQgAAEIAABCEBgzQkg6tc8gbgPAQjUJzAeDeXqQ1/6n0b1G1ETAhCAAAQgsAYEEPVrkCRchAAE5kFgLMN/e9L6TyIHf17NwyA2IAABCEAAAitDAFG/MqnAEQhAYPEEBtJ+sCOti8X3RA8QgAAEIACBuySAqL9L2vQFAQgsl8B1VxpJU87Hy3WD3iEAAQhAAALzJoConzdR7EEAAitLYPT2WJLHXRkqD2+u5PxVS84uWF+/sgnDMQhAAAIQqE0AUV8bFRUhAIF1J9B/ptfTX59L5++BDP4+lu9+0SJ/3YPDfwhAAAIQ2GoCiPqtTj/BQ2CbCGTr6U9e9aTzNrtR9uptSzr/pPP22wSCWCEAAQhAYAMJIOo3MKmEBAEIRAhcn8mj5L7s//hIjp/3ZMCqmwgkiiAAAQhAYF0JIOrXNXP4DQEITEXAXU8/eHkgyZOeKF0/vuGu2alAUhkCEIAABFaSAKJ+JdOCUxCAwLwJ9E93ZO+PQWp2+LohybO+iFxK58/LeXeFPQhAAAIQgMCdE0DU3zlyOoQABO6ewJV0fnSeT/+xLfuP29L9oyW967v3hh4hAAEIQAAC8yaAqJ83UexBAAKrSWAcLLMZj2T8bTVdxSsIQAACEIDAtAQQ9dMSoz4EIAABCEAAAhCAAARWjACifsUSgjsQgAAEIAABCEAAAhCYlgCiflpi1IcABCAAAQhAAAIQgMCKEUDUr1hCcAcCEIAABCAAAQhAAALTEkDUT0uM+hCAAAQgAAEIQAACEFgxAoj6FUsI7kAAAnUJDKX7SyJJsuC//2Y/UjXZq0tp7S7YlySRvRc8V39yLqgBAQhAYPsIIOq3L+dEDIGNITC+OJE9R9Tv6x+Xqh3gzUhGo+zv6mNf+m/O5OTJI9m/54rzQzn7Us/i8K+Gc5KxI8dv1W/W1v831r6MRkO5+tCX89cdaf56IN+5Jwu7TekHT+es3wM1pyMwlsHrE2n850AOvt+Xw6ddGdxMZ4HaEIAABO6KAKL+rkjTDwQgsAACY+mf7jtCel9aF/NQvGMZfjiT5g87qe36s+Pq6kHWJr2CsNuQ7jx+3OrbSK7+acsjfbJx9Ga6k4UFgN8Kk6O3TWn+Y1hnud35pSvDrYieICEAgXUjgKhft4zhLwQgEBAYSPt7Z2b9wYn05zabOpLLPw5lZ5rZ8a89OXZn1h+fzU8EfruS3m/7kjw8k6uAAm/nT6D/NJFktyVmwdP4XVOSZE4navN3F4sQgMCWE0DUb/kAIHwIbASB6640HCE939nU7GrA4av6Mnp80ZJ9d1nQ80uZx/WDLFdqxvi+NN/Xs3j1ui3nZrLZJvtKui/OpVBs92/2RpyJSFg+/tSTszcDmztE/WaPC6KDwLoTQNSvewbxHwJ3ReDrQPrv+9J/fylXQ70WfXgll+8HKyEOh68bsmOF9I40Xs9zkcRA2j+17YztZOSLWhake1ZXA57Uu4G3fxqbWe5L6/H2LiOJMxEpK8+oj+X86Y7M94Rx8kiiBgQgAIG6BBD1dUlRDwJbTmD4viOt5y1p/qTXjN97JM3nLWk9763IUpBMdOVPwzmUzudlJu1KOg+dZUG7TTmf27Kg+nHFhSqiPnavQ5xVxlpdfTn4oTXHpV31c0hNCEAAAnUIIOrrUKIOBCBgCfRPM1E/7ZNdrIFFbtz0peWur/9+ySJsocuC6oGMC1VE/VSi/rorR792ePJNvSFHLQhAYEkEEPVLAk+3EFhPAlfS+VHNPj+Ss3k81WUBEMYfgvXsp327JnoB3U00Ofx7kcuCJnZfsqQEUV9b1N/0pf00X6o0ft+V3jxXdk1OITUgAAEI1CKAqK+FiUoQgEBKQM08q3XrD9oyWGEkV38eOo+5nP558fMNLVwWtC/tj/PtocoaM/VFOnEmkTX16srP46Z036l7SbK/zpOW9IsmKYEABCCwdAKI+qWnAAcgsD4Esqd/JJI8W3VZs6Dnxc+aqiUuC4oL2OqZevMjWPb5Ot/G2Y902YJZQdy2nfLj9k7EmRRFvVlqlt+nkUjynzk+ovS2OGgPAQhAwCGAqHdgsAkBCFQTuHy+wuvpQ9eD9ezJPJ8XH/ZV4324LGjv2d0sC4oL2BJRfzOQsyeHcvSsJa3fD+W+ujH0Y1eOfzqSk+dNefQg9iSdGsHPqcrgpfqhsab0v7kGR3L++31JpvhRqDiToqh3e2EbAhCAwKoTQNSveobwDwIrQ2DG9fRfunL044EcTPl39Lr+c+HLEI0vTmTPPuYykf25Pi++rNfy8uFfDW9ZUOPvxS/OjgvYmKgfSe+3I+cXcAfS+R/140vZU3sGf2S/3HsXPscJDuXsP5GZ8vG5NJNEdp6bn4iKt3ZL40wQ9S4jtiEAgfUjgKhfv5zhMQSWQ2A463p6vXRjpJ9tX/N17M3Gzhrygp8XP7Vbd78sKC5gI6L+Y1sOXzjCWIvlbKnVWC5fHMj9H5pyvqwbpEc9OU4S2fsjuJvjYzs9cWu+Ky7LGb45kv3fiz+yFWeCqJ96ONMAAhBYKQKI+pVKB85AYHUJrM96+pBh8Xnx/aL+Cxst7v3NuTSdX79NHp4t9Dn/cQEbEfXfxuKdSGmxPO2jS6/eqt8umOav3u8cmPF3cuGn5urPA0mS+LKg4buOnF0Ufzc3zgRR75PlHQQgsG4EEPXrljH8hcCSCKzVevqQkbO+fn/Jj7hUrqkfMtpPlwXN+5dvw8DLhGpE1AdNq8RyUNV/O57uikzdG18Hf+xJkhxLz9Po6spHIsmPnalOjBD1fsp4BwEIbAYBRP1m5JEoILBgAjOup1deXZ9LZ6qZ22yWt/NunuvNh3L2OBEl6D1NuGBqpeZv+nLyYEcaf93+voHSPvSOuICdJOpH0nsSeXTpzbIucejxFz55xqynP82exjQ2T8b5NpT+q5Z03gyiv1EQZ1J2AjSJMPshAAEIrAYBRP1q5AEvILDaBGZeT6/Cmm1NvdFntweTravfmeLpKLfvs8pCtq7+rq4YxAVsUdSP/jmW+8mOHP8zEvHW05tYLqX9cEm/T6DX0ydavBuP5KIlO0ki2RKhgbQfqxn7sZw/V78krG70PZSzL7a23YgzQdRbQGxAAAJrSQBRv5Zpw2kI3C2B8T/H2VNbnp5HZz7v1pvpehu+bsjO90rkTdduMbXv/gQjLmBDUT+S3q/ql4L3pfVhLGr9uhLLroi+etXQ4nkxZKqsmvX0yeP8l13FPvtfC/d/29J4dSVycy5nb4YiX87kcLcpsfsn4kwQ9VU5YB8EILD6BBD1q58jPITAkghcydlDJfSKf9M8PnBJzqfdpmvXd+M3US7Dr2WcYMQFbCjqRdSTYr77qSmtZ0fS+L0ng4uWHNw7lObzlpw8OZLmm8UvFSrLSbae/r7cv7cjh7+r5VlNOfq1Lf0vfWn/sCP7vzbl6Gf/xE212XOf5uMYjzNB1DuI2IQABNaQAKJ+DZOGyxCAwGQC43/bcnhvhQT922PZX8IVg7iALYr6lOiNusnVWTevf0nWeyrOZPRzruGvp89+7dbxUS/vcktELqX9YE/a/4pI5D6AOBNE/ZwThzkIQOCOCSDq7xg43UEAAndAIH3azb60Lnypdwc9R7tY5hWDuIAtEfVR75dcWPZ8+iq3PrRkJ30izkh6L3uFm6PjTBD1VUjZBwEIrD4BRP3q5wgPIQCBaQika63n/6jI0aeBDGf5QayFnGCM5erfq4JYjWGKC9g1EvUXJ5IkO9IKnk8fi9WWferI/uO29F62nV/ItXslzgRRnxNiCwIQWEcCiPp1zBo+QwACcQLfruTsl/ty8Lw/3xt6lTD/b3HGN+6EUzrqS+v7+3L09zwfz5k959779Veny3AzLmDXR9THn08fRhl5Px75P6blVIkzQdQ7iNiEAATWkACifg2ThssQgECMwIIeFakejfjLjhy9mfIJ9wu6YiBfz6X5vV4vHsMQlMUF7PqI+vGnnnQjvwobhDnV2zgTRP1UEKkMAQisHAFE/cqlBIcgAIHpCSzoUZFfetL8YUeSpCnnUy3PX8wJxuhDRx7dm/IXVMdxx0uKp0e/ji3Kgi8rX8cY8RkCENg6Aoj6rUs5AUNg8wjM91GRYxl9PpfOfw+yZ7Uniew8nWY5z5xPML6N5epDV05+vm8fL3qonsfOPwhAAAIQgIBDAFHvwGATAhBYPwLpk2WSRA6eqOeXz/7X/PVADn74zgr5/Pn8092kmZ5gJN/Jo6ez+9J6fiLHPx/Iwfe5kM/9WZ3HdK7faMFjCEAAAptLAFG/ubklMghsPIH0WfS7xR/HygXwHPY9aMtlTZJD9Sz6yI91zdWfWW7Yrek/1SAAAQhAYH0JIOrXN3d4DoEtJzCW4b996b9f8N+nujfIjmSwaF/e9+XyOr5GfssHA+FDAAIQ2HoCiPqtHwIAgAAEIAABCEAAAhBYdwKI+nXPIP5DAAIQgAAEIAABCGw9AUT91g8BAEAAAhCAAAQgAAEIrDsBRP26ZxD/IQABCEAAAhCAAAS2ngCifuuHAAAgAAEIQAACEIAABNadAKJ+3TOI/xCAgENgLJcvDuXwz4FTNuXmzZVcvjqW49fDKRsupvro86Wcv+5I6/mZ9D5qn64vZVD3oTyLcQurEIAABCCwYgQQ9SuWENyBAARuQ2Asg7870vs8y2MfR3L5qiWtVx05+TGRxrJF/ZeeNB/uy6MXPRl8GcloNJKr9205edGWo3sn0r8NJtpCAAIQgMDGEUDUb1xKCQgCELgdgaF0Hy9X1KtfyT2415DOp+LJyeWLPUme9ISJ+ttlmdYQgAAENo0Aon7TMko8ENhWAqOB9F625OzitnJ3gaL+21D6fxzL8bOWtJ63pPWyK+fqB6s+Oz5fd6WxuyPNd0VBr1I7ftdc/lWEbR1jxA0BCEBghQkg6lc4ObgGAQjUJXAlZ8+6Mhydy3HSlP431U4txdHiWQno0r+uDDz9PJuoH30+l7PnLTl7PxS5yU4wOm8GkpseSvdZRy4d/V6MbiznT3ckeXgmV8Wdacno7YmcfSrZSTEEIAABCGwtAUT91qaewCGwQQQ+n8nZB5Hx+6bsVAjiehFPL+rHHzrSfqfU+ljOf9uR+7925erTmTy615Cuvrf16lVTutcTPFCz9Ekij/6qeZPut7GM8rOGCcbZDQEIQAACm0wAUb/J2SU2CGwVgZH0niRy9KZyKrwGkWlF/Uh6r871GvfMh+O3I5HPPWm9PJdMng+l+0eNdfAXLUmSHWl9qOGmiFy9asjJP7eNt15f1IIABCAAgdUmgKhf7fzgHQQgUJfA154cJUfS+yoyvsmmrwdvqpbdmH09GaTLdUxH04p6005N1J9LM2lEZuSH0n16XLoEqKOW7Kh/75uSRNvrPr6ey5k6YeAfBCAAAQhAICCAqA+A8BYCEFhPAsO/G5I8PZexXErnz8tbBDGDqB+Ps7XzH9uy96At9in5Y7M2ZiznLzql6+Sts587cpDsSfujLfE2rl610pMWkZH0X7Wk+b89fSXAq8YbCEAAAhDYQgKI+i1MOiFDYBMJjP45lv2nZ9J90ZH+zWwRXr1tycmTQ/luN5Gd/3uYPqWm92WCrXFfmrvZsp/BH3uSPNNPkL/pS/uPfn6j7MeONCc++34o3V92ZO+Z0053P7roSOdCnyRc9KT3dSDth225zenLhMjYDQEIQAACa0QAUb9GycJVCEBgAoGbUS6iJ1Sd2+7xpbQeHsvZ3205eXkmzZ+b0n3fk/b/duQyOLkYvWvJ8R/ncvXVzOBHvLi5lM7P9+X+zyfS/acv/fc96TxtSudDsOzm37YcvkDSRwhSBAEIQGArCSDqtzLtBA0BCMyXwFhGVsCPZVT1SJrxUAZvzrz19XZNvePUeHQlg/eXcjWMnwD0Tw+l83kkg481n5Tj2GYTAhCAAAQ2jwCifvNySkQQgMDGExjJ+W8n0n13JueTHpO58SwIEAIQgAAEFAFEPeMAAhCAwFoSGMvYe2rPWgaB0xCAAAQgMCcCiPo5gcQMBCAAAQhAAAIQgAAElkUAUb8s8vQLAQhAAAIQgAAEIACBORFA1M8JJGYgAAEIQAACEIAABCCwLAKI+mWRp18IQAACEIAABCAAAQjMiQCifk4gMQMBCEAAAhCAAAQgAIFlEUDUL4s8/UIAAhCAAAQgAAEIQGBOBBD1cwKJGQhAAAIQgAAEIAABCCyLAKJ+WeTpFwIQgAAEIAABCEAAAnMigKifE0jMQAACEIAABCAAAQhAYFkEEPXLIk+/EIAABCAAAQhAAAIQmBMBRP2cQGIGAhCAAAQgAAEIQAACyyKAqF8WefqFAAQgAAEIQAACEIDAnAgg6ucEEjMQgAAEIAABCEAAAhBYFgFE/bLI0y8EIAABCEAAAhCAAATmRABRPyeQmIEABCAAAQhAAAIQgMCyCCDql0WefiEAAQhAAAIQgAAEIDAnAoj6OYHEDAQgAAEIQAACEIAABJZFAFG/LPL0CwEIQAACEIAABCAAgTkRQNTPCSRmIAABCEAAAhCAAAQgsCwCiPplkadfCEAAAhCAAAQgAAEIzIkAon5OIDEDAQhAAAIQgAAEIACBZRFA1C+LPP1CAAIQgAAEIAABCEBgTgQQ9XMCiRkIQAACEIAABCAAAQgsiwCiflnk6RcCEIAABCAAAQhAAAJzIoConxNIzEAAAhCAAAQgAAEIQGBZBBD1yyJPvxCAAAQgAAEIQAACEJgTAUT9nEBiBgIQgAAEIAABCEAAAssigKhfFnn6hQAEIAABCEAAAhCAwJwIIOrnBBIzEIAABCAAAQhAAAIQWBYBRP2yyNMvBCAAAQhAAAIQgAAE5kQAUT8nkJiBAAQgAAEIQAACEIDAsggg6pdFnn4hAAEIQAACEIAABCAwJwIbIuqH0n2cSPK4K8M5gcEMBCAAAQhAAAIQgAAE1oUAon5dMoWfEIAABCAAAQhAAAIQKCGAqC8BQzEEIAABCEAAAhCAAATWhQCifl0yhZ8QgAAEIAABCEAAAhAoIbByoj5dG580pHvteHzRkiRJpHXhlElfWolZR++sqb/uSkOV67/G6+Iq++Hrht2f1jvtu4alf6rat6Rv+gj6zvaX9GH6Z32/x5Q3EIAABCAAAQhAAAKLI7Byol4iAt6KaFd8e/W0qHfEvBH1/slART3Htu3PsZedUOgTCafc9GNPHhD1ixutWIYABCAAAQhAAAIQiBJYPVFvZsetyHaFuJo9z/7ls+nqvVPHthMxJwiJKfNOBBweaXl+dcCK+mC2PZvhz+sZC1l57psp5xUCEIAABCAAAQhAAAJ3QWAFRb04y19EJJ35bkj3IltW482YG7FuRX0orLXY1+LcivXITLuacTez7Vm9ULw7Jw4l7f3lQXeRPvqAAAQgAAEIQAACEICAyEqKejPDrkRyOgueivJMVKfCWy9xyUW0L97zxLrlk0W5L+rDE4TypTdmCU7uT+4BWxCAAAQgAAEIQAACEFg0gdUU9XYJTjf7USk9I5/OoD/uSj+90dUV3a54d5H55aZ98dZZt01wpcDu0rbs1QG7gw0IQAACEIAABCAAAQgslcCKinojrLMnzNgZcL0mPp0Z98S1L95zokG5ae+1VUt8ht4v0WbLb9yThsyieWqOmdG3/QTtbTkbEIAABCAAAQhAAAIQuAMCKyvqzRKc7NGShkS+BMYK/XRXIN5NdbPW3t7wquuVrIk3Yr1M1Iu5glDSPvWJp99Y+mxAAAIQgAAEIAABCNwNgdUV9UZAB7PqccFdV9RnUM2Mu1kL7584mKsExZl6k5LMh/w59Yk9aTA39prn55sWvEIAAhCAAAQgAAEIQGBxBFZY1C8uaCxDAAIQgAAEIAABCEBgkwgg6jcpm8QCAQhAAAIQgAAEILCVBBD1W5l2goYABCAAAQhAAAIQ2CQCiPpNyiaxQAACEIAABCAAAQhsJQFE/VamnaAhAAEIQAACEIAABDaJAKJ+k7JJLBCAAAQgAAEIQAACW0kAUb+VaSdoCEAAAhCAAAQgAIFNIoCo36RsEgsEIAABCEAAAhCAwFYSQNRvZdoJGgIQgAAEIAABCEBgkwgg6jcpm8QCAQhAAAIQgAAEILCVBBD1W5l2goYABCAAAQhAAAIQ2CQCiPpNyiaxQAACEIAABCAAAQhsJQFE/VamnaAhAAEIQAACEIAABDaJAKJ+k7JJLBCAAAQgAAEIQAACW0kAUb+VaSdoCEAAAhCAAAQgAIFNIoCo36RsEgsEIAABCEAAAhCAwFYSQNRvZdoJGgIQgAAEIAABCEBgkwgg6jcpm8QCAQhAAAIQgAAEILCVBBD1W5l2goYABCAAAQhAAAIQ2CQCiPpNyiaxQAACEIAABCAAAQhsJQFE/VamnaAhAAEIQAACEIAABDaJAKJ+k7JJLBCAAAQgAAEIQAACW0kAUb+VaSdoCEAAAhCAAAQgAIFNIoCo36RsEgsEIAABCEAAAhCAwFYSQNRvZdoJGgIQgAAEIAABCEBgkwgg6jcpm8QCAQhAAAIQgAAEILCVBBD1W5l2goYABCAAAQhAAAIQ2CQCiPpNyiaxQAACEIAABCAAAQhsJQFE/VamnaAhAAEIQAACEIAABDaJAKJ+k7JJLBCAAAQgAAEIQAACW0kAUb+VaSdoCEAAAhCAAAQgAIFNIoCo36RsEgsEIAABCEAAAhCAwFYSQNRvZdoJGgIQgAAEIAABCEBgkwgg6jcpm8QCAQhAAAIQgAAEILCVBBD1W5l2goYABCAAAQhAAAIQ2CQCiPpNyiaxQAACEIAABCAAAQhsJQFE/VamnaAhAAEIQAACEIAABDaJAKJ+k7JJLBCAAAQgAAEIQAACW0lgLUX96FNf+u/70nvVktbbq61MHEFDAAIQgAAEIAABCEDAEFhDUX8l5y9acvLrviRJIo2/hyYWXiEAAQhAAAIQgAAEILCVBNZQ1Gd5Gr5uSJIcSOdz/bz1TxNJkpb06zepV/O6Kw11gvF6008whtJ9nEjyuCsrHanOR3rSN2tOLlrpSWProt4QoBYEIAABCEAAAhBYJoE1FfUj6T1JJNmdTqDfXtSXiFpE/TLHcNB3X1qJOnnL/mY+0VqkqF+k7YAGbyEAAQhAAAIQ2A4CSxD1ruhqSPd6FtB9OVGi7em5jGdpPnMbRP3Kz9RrwTyzmDdjY5HCe5G2jf+8QgACEIAABCCwVQTuXNRns+X5TGpyOsNimI9t2SssdxnLaDSS8bdF5g9Rvy6i/tbLZhYpvBdpe5HDH9sQgAAEIAABCKwsgTsW9VoUO8sjZlmfffXngSTJnrQ/ZlzHn87k+OdjOfnfhux/35FBCe7Y8ptsbb5zklG2XlwLMbOsI301dZ3lN769+JUIv04i1Sc2zomEs1a8sF68TCiG5Y6v/gmWXsoU9OH7Vu5LWR79PsL7DmL24syylLpXeVTO/LphX4pRubgPbQW+hdzC92aMRcoL+TXjRCLjP/Qx5B/eA+L0Z+O1J8bFmMrjNwHwCgEIQAACEIDAJhC4Y1GvkLnCwxdl9YD66+nHF205fnkpo5u+nNxTQq98nX0mgvL9BfFlTzbyOtYnLaaqRL23L2orLurSdlaY2R71RkUbVxA6Ys+zEJYXRKNzQmN99svypSzVvvjs3TxPY69kTMT4a3+Nf1bkOnFERW2FLXsSE3IL3xvIQXn1mIrzMz5Wt9UdxnxPx04d3sZpXiEAAQhAAAIQ2DQCSxD1t0Wo19M/6cnVRVuarwbZuvrRuTTv7cjBi8vSdfahqA/fp54p0Xvakn70qSdalNmZVx2LI5SNQFN7jMi0ZYEAtCTS8hIx687uusLfiDtTVmnbmbGO+uoKQueExtS18Tqi1PSrgzCxGoGdCdRiTFm56aPcnmWTbuT+WZaq3PjnnsiVcbAG8z49WyIyvOinf+mCsNBO+N7YC8prjamgTWZKxxhwNSfBhqvotuFVCsPC1tP+9U8b0nrdX+2nFRmWvEIAAhCAAAQgMDOB9RP1ej19srsjB8/7MppiDX0ouMqEZznNCaI+FGRadBqhZYRvfEY/WP5hnTAi1AhhsyPwJSoURYwItALWCOHAVzNLbOvpbnxmZb6oyq4oNfX8GXo37qwfUy+MzcSoXwOO3t4w7vC9Vzk/ETA5CXfb96Gd8L2pGJTXGlNBm9SULnMZedvmxErXK/rv8jfO8QoBCEAAAhCAwLYQWDtRP/zrUfp8+pM3Pen890B2dg+k+bbeU9N9gapTbESuXbJRnF3OB0MgpM2OMtHplRsBWy50i0JNdVDSZ1geE4qqeVju+WQCECkToz6zMl9CP/OZdU+YWsbmykGVvdy3QgzOrsIMdRivW1dtT9pv6of1wvdl9VT5pDEVsWVOqsp42XsWIm2NK+q1cOIYnLy5ddmGAAQgAAEIQGBzCKyZqPfX04uM5fzpjiTJsfRGWVLGo/KHXPoCtSSJqWgqE/YlIrREKBtxZ8R62r+ZcS3pvlhc0ucyRSrp7UgAACAASURBVL273MU67M4Ua58nCsqy2KzRbKOMr9obitzwfWAqzIm7O11+YwpCO+H7snqm3H1N2zpjKmYrrOO2d7djbd393nbdPHiNeAMBCEAAAhCAwBoSWDNR35fWrv98+svnrqjvS+uX8l87DUW9Wm9ceE5+pWgqEaFlojMs17btzZhmwFwPK9Y8l/QZinrdl53RVbZNmXtDbeiT9mGqmXo14+4Jdu2j85hRM/NsTmhMqOLFWhabra038pl/b3mQjc9ZvlOZP2Uu97XSVmjH9OWelJkyh2+tMRXaTqM0MTqxpOVDGbq/5RBtq3Pt5cSJ1fU5tcl/EIAABCAAAQhsGoH1EvWfO3LgCEeVjEzUZ0Jo/K4px2/0lH0kU56o1+IovtwhFFbGWC4Is3b6pKBEKBtRnQvbsL2/FCevZ/pTr2XCNyyvtm0FbImvU4t6ZymNZeiJRyNS/RhNXW9NvdfOjd3ZrsiXx61M9DqmzOy+8cV9tZwKdmrwrfDRezJQWE+LcXMi5Ppjtw2jgl/OGInlxH5eTD7KxrYLiG0IQAACEIAABNaNwFqJ+uHfDUmSQzn74mBWInV3X46eNaXxpHyWXrXwRL02kZW5wnOC6PEE2bSiPuu0KN6q+gzFu4k9Vm6Em45HicVQBM5D1CuBqe0URKdxr4yvEafp/lgMgQHvbRBf8Jz6tGoYr9fefTPBVtRO0CbG146zqjEVnCC4M+whV+cqwMT4Im3zEx7je9VYc/mwDQEIQAACEIDAOhFYK1Gv1tCPbiJ4v6lfky1fSx9pQREEIAABCEAAAhCAAAQ2hsCaifqN4U4gEIAABCAAAQhAAAIQmBsBRP3cUGIIAhCAAAQgAAEIQAACyyGAqF8Od3qFAAQgAAEIQAACEIDA3Agg6ueGEkMQgAAEIAABCEAAAhBYDgFE/XK40ysEIAABCEAAAhCAAATmRgBRPzeUGIIABCAAAQhAAAIQgMByCCDql8OdXiEAAQhAAAIQgAAEIDA3Aoj6uaHEEAQgAAEIQAACEIAABJZDAFG/HO70CgEIQAACEIAABCAAgbkRQNTPDSWGIAABCEAAAhCAAAQgsBwCiPrlcKdXCEAAAhCAAAQgAAEIzI0Aon5uKDEEAQhAAAIQgAAEIACB5RBA1C+HO71CAAIQgAAEIAABCEBgbgQQ9XNDiSEIQAACEIAABCAAAQgsh8BmiPpvI7l635XO0yM5+PFADn48kuarvgy/ZVDH/3ak/W68HML0CgEIQAACEIAABCAAgQUTWHNRP5bB66Yc3kvk/sNj6bwZyNVoJKPRUK7+acnhDy05f9+Ww91Hcna9YJIrZH580ZZHPx7J2ecVcgpXIAABCEAAAhCAAAQWRmB9Rf23K+n+el+S3QM5+WcYBTR+15SdJJHkQVsG0RqxwqF0HyeSPO5K3GqsTc2yi5YkSSKti5r1Z6o2lO4viSTJvrQ/zmQga7RAX/unyr+W9G/hHk0hAAEIQAACEIAABHICayrqlXDdSYVr66JqWU1fWruJJE/PpapWjkNtzUPU96WlTiZOA9m6QKHsxTAeyejGK6l4c/e+LlLUD183JEka0t2iKzMVyWUXBCAAAQhAAAJbQmAJol6LSCV6ZxJfY+mf7qcz3o2/Js2lZwL9+O3ojtN590J59gDv3ldE/ezZoiUEIAABCEAAAhCIEbhzUZ8JOiXo9V84mx3z0i372JZ9vaTm0i2PbitRfyCdO19bfvdCOQt/LCN1T0H9yxIicve+Iuqjg5VCCEAAAhCAAAQgMDOBOxb1emmLEfTqdaq16yPp/Tc7GTh8dVUj6LEMP11NsfRGmYwtvyn63Xgdv0qQLf9wTlpUjObExVl+45/cxNaXa7FtWU1YUnLTl9ZPDWk+P5bD3QPp1FhPPz9fw1SEvifi8gpFfdmSmVh5wWc7fop9Fq4EXXelYXmqHAXcY/kxuQtD5D0EIAABCEAAAhBYIQJ3LOpV5K74miBUQ1CjnhynomyRs++hqC8K+qqrDAXRGRH1tr0rMK04FREtLov1yniNpf/0UXZFYnwuzSSROic9c/E1zFGp7/nJzayiPupvylCJc3dcmZOqnFd1Wx1EzHdEfZhh3kMAAhCAAAQgsIIEliDqb0HBiK7dlkxeejNrP6Go12IxEHdKJLZOlZSM/Yu3ycV6LjbtlQF7f0HYv7GvywM/0r3qZEffDDx+r574s+M/YacwQ50LbHuSFdo1rK1fqidzguP6b/xz9xef8DO86Iv6U7xmFfVhu7RnFdtpS/r6iUKZeA/9K8mHPhGwVxGiMbvxsQ0BCEAAAhCAAARWk8BaiXo72+rOaldwHX26lGG4vvy6J0ffN+W89N7ZUFSH7ys6tLtKRKQWjVZEmvq6PH3UZUyAuzP64ZKR1MZYxmmcennSg7Z/0hOzaUX8LXw1/ptX3U8hPrNfv4biPC7ERcLy8H1gNn0brWPFupnBD17NeCrLT6wjyiAAAQhAAAIQgMAKEVgrUa+eO58uSTEirBLkpbQfRp5Pf30unVd9KdX0ZjY66CMTi44YDPb7rlQL5cJz6l1RP0mARkW97v1rT46SRPb+qP9U/kkz9ZW++kHbZUOFNkG9WUV9aqZwguLPysdEfSF33kmSc1+Hm4fAZ95CAAIQgAAEIACBVSawVqJejKD7sSOTbpMdvT2Wo7/jN7NWJ6TezHwqTEuF/S1EvY5xkjCOxXD16lCS5FDOvqi945rPqr+Fr6ETFTP16fIbXf9Woj7sMxXiubCPifps2VNeJzRh3yPqLQo2IAABCEAAAhBYLwLrJerFPP3msPoxldddOfq1+Iuww/dn0nrZk0HlDzOFor4vrYh4D4Wpn/bbCGXdv7eWPbM+vK46SbmSs4eJJA/PshOei5Y8qvWEoNv46kedr7kP1tSbkzF9laHAzlydsEuC3JuFczHeP823bc+BEI+KensTbfC0GxnK0P2RqsCW7YMNCEAAAhCAAAQgsOIE1kzUi6Sz9epXYr9vST+yhmb0oS2Pfm7LZSDcx+9aon59dvByf8KTYXxRnwlQZ9mNu3TDFaFeorVQtnW1mCwTjWG5fl98+o3yIxSmuuNh9rjGR+kPcg2l+2tTzgMGnov2zS19tXb0RoXv5upDQdRb0R3jrIV8hV2XSbjUxqzvD8s9tuakLcyDujU4/YVa/5GcYci8hwAEIAABCEAAAssmsH6iXhH70pPmDzuS7H4nh09OpPW8Ja3nJ3L806EcvYytlx/L+aueDEXNZu9I831496ybBl/UZ3tC4es+PcZtm28bMZiJxylFfWqm2KcRqHkv7tZQer/el71fTqT5+DA9gXH3Vm3f3tfQeui7P8NeFPX6ZM2eBGUiOvMr1tYV/+FJjt+3x8xeMcjbmxONNAJEfZhI3kMAAhCAAAQgsCYE1lPUa7jjLwPpv+9nfx+vZPxtAvWPbdkLnwwzocm67R5P/Yuy6xYh/kIAAhCAAAQgAAEIhATWWtSHwUx6f/liT/ZeXIp8G08+AZhkjP0QgAAEIAABCEAAAhBYEQJbJOovpbWb/RLt6E1Hel9XJAO4AQEIQAACEIAABCAAgVsS2CJRP5DO9w1pv+lIe6ZHXd6SNM0hAAEIQAACEIAABCCwIAJbJOoVwbrPbl8QbcxCAAIQgAAEIAABCEBgAQS2TNQvgCAmIQABCEAAAhCAAAQgsGQCiPolJ4DuIQABCEAAAhCAAAQgcFsCiPrbEqQ9BCAAAQhAAAIQgAAElkwAUb/kBNA9BCAAAQhAAAIQgAAEbksAUX9bgrSHAAQgAAEIQAACEIDAkgkg6pecALqHAAQgAAEIQAACEIDAbQkg6m9LkPYQgAAEIAABCEAAAhBYMgFE/ZITQPcQgAAEIAABCEAAAhC4LQFE/W0J0h4CEIAABCAAAQhAAAJLJoCoX3IC6B4CEIAABCAAAQhAAAK3JYCovy1B2kMAAhCAAAQgAAEIQGDJBBD1S04A3UMAAhCAAAQgAAEIQOC2BBD1tyVIewhAYA4ExtJ/8UgOfj2TqzlYwwQEIAABCEBg2wgg6k3GL1qSJIm0LkzBvF6H0n2cSPK4K8N5mdxEO9ddaSSJNF5PpjR83ZAkaUj3uhpE/zRJc1rHZrWlO96rx+Lcx4yxO9U4v6PxO8zyn3zflsEtcGc5b0n/FjbiTe+IQ7xzSiEAAQhAAAITCSDqDaI5iPq42Nw0MbCgeOYt6ueQTzM0lvI6BY9a/ml76sS17OR12eN3PBrJ+FutaERK8rueon5Bn6maKKkGAQhAAAKbQWAJor4vLS0s6sy2rhPmZYuiu2G1fAES5+xGr8fYml8dyQTq5CsSbuRl2xmz6itRca7Lz3c0JkR9FAuFEIAABCCwvQTuXNSbJRFmxjA5nfFC+Xgko/FqJW6tRNHM6JYv8uKc84DqCNi89gpvmdn1WT8jTmiTmKmq8Tp3kG/1WVaz9I6/EzcR9RMRUQECEIAABLaLwB2Lei0Q7Ez9rGvNB9L5PpHkaXBCMDqX5r1EGn9PXpddSHNMJOgyewKSlK3Vda8+ZMsb8qsQjigyIk3HH13rHdRJSvt0Iyj2X7Qd1glmgHW/qp0RxVncTr0CDyd/sfbuTPmkuJz2bmRmmYXNwWm/RHyaVmaMBbly7Psnlrpe6F9MSId1orkJOYf3CUwzHkpiMaGa10q/jA0zLtWrk9PURtHnvM40/opIpS/G4fx1fNGSw8dNaf12KDs/dGqsp4/Fk1+ByJffBDHF8pm7kW75415xcseQwyGrXXKvTFhPVQ58ce9pqPpMaf/88VpnPIX51YZ4gQAEIACBjSZwx6JesXS/4Gb88rk+k0dJIo/+8sX7+F1TkmRHWh9myFko6mNftqkYj/nsxmTEk6kXFyFGpLo35hZFhbHliosgtlI/E7FXQUrrGB9jYsz07YibmB0j3AtiLhf85XHlYsyIQfdkpKpdLjoDHmZ8Gb/M7ph/7sllZLueL05uKvrI81x/PCjXM0Hn5MnEo1+rGGV9xvoL7S1p/I770vxPJ33aTfbZPZSzL0GAhbexePJxFApg8zlTr24+fbNxm1lbw0rXseMqfG8shuUxttlnK/Wn6jNlxnLl2Iz5bnw2PvEKAQhAAALbQGAJov72WEdvjyVJ9qT90bc1+GNPkqQp55Hr+MM3R7L/+7mM/Cb5O/3lasRXJpbCL8e+tB63pHvhn0wYI/E2zpeuO1tovsxtmf7yt++N1aw8Lkhy28Zv02p40Rf115dQZNga2Uyj6c8RpK4tI5LyshJ7Je2NWC+IcBO/EUm6vY3T2gtyYNoVZpt1XKadicuEa8rdWVJPNEXEufHN1Att6nLjc1SAh3GZfCih5tozcblldklMLlpNOOmrjamEkfW/bGmNZ63kCkg+xqr9nX78qs9x8536sI6l/3RHkl0nB/aExj25dOLUvPJxmcVixqv35CDDyeHhRW7YF/b3pX8xTP/E5M3WKfkchPUK+Td+NqT1Wn061b+4rfjxxOTSsCrJjxcgbyAAAQhAYBsIrKGoH8v5U/VFfxI8tu5KOj/ms8Nh8obvOnJ2USrpi0/TKBENoV33ffxL2Hzpmi9h0yL4IjfCIjIrl84YWjFh2uez60ZUOnvyTSNoyuyaJQamXiAqjSjP+wj8Nj2Vta/g6PEKxU/ddqZ/82o4lsThCdMK0ZyJQ50zY7OMYSQ3WWy5IC3wM9yN35XCrmSWeQpGHmvbp78Rr7PA8TseZ+vov/bkKElk78Wl55AV6JZ7XVHv1NMWvXx6vZirIeHnM6hUyE/J56BQr+xkx7Ufs2W452PIveqgtrMTGlNvkv9uf2xDAAIQgMAmElhDUT+Q9oNEkic9f9ZdP+f64M8Zf7omKpD0F7IVFeaLND4UKkVRQfj5X+ShCAy/wL2ZR9N91GezU79OEqRGXIai2pgplPt+m2pF8Z/tiTPxfUvFSdDP5HZF4ZZa1XZC8T6tf64IrJ+b4ngxeSyI+gnjwXA1fYcz0mr/ZEb5eK2sqzuL1ynJdyBejZ8m3sJrIV4TocjozVH0ylteI7JVMvbdvLmtysrLZsndttl2yCF8b1rEy7P+HYHunXTG2pSPJcPWE/UVfI1nvEIAAhCAwGYTWD9R/7kjB1Xr6dMfjxrL6EYn7ttQ+q9a0nkzqH66RolI8NKvBWNMYKl6txFF2Q2hJULVc8J5EwhhZ0+69Ca9tD/BZ9umzFahPCZAKq4aVHD1eIX91G1nAzAbWgyFIie0r6t7PhgTdumHO1M/OTdGuPnjI/NnVlGf2SzpewpGZXE6Id/9+E07v5Kzh4kkD/UvyY5rPqu+JPYy8V5Wrlwo36eW3xhC4bgP35fVM+Xuq25rhX3MVljHbe9ux9q6+9mGAAQgAIFtIbB2oj5bT5/PQJpE9U93JEmOpadW2HxsSyOdsR/L+fOW9G8G0vmfCTfhBSJBiSBfnFUIV+1EXDiVfemG5WZmLryMPpRh6S+nahv2Urx2RAvY7Okdpk5RGA6vnXsDSkRvcYY79NvvMxevfvmdrak3M8jmCoR2oxhHtiOes1Do1clNnEtm310+E68XnzE2uQvHxJRsS084DZwqFnX9rcPI7y999+VMDpNEDl9lV9j6p49q3CwrxeVy2nSZQC8rT5vpz354NSxrY3JX5GD2u8cJU2Ztqc+VFe8m/tBW+D6rVxw7uv310Pl16nhb0xOvEIAABCCwPQTWTNSb9fTmizZLlHos3r5aIvNTNtt3+aKRCYObczl7MxRRwmG3Kf3IDbQ21a6ot6LYuVxul+AUxbGxYb6EzeXxTOCWfekWy8P2xk76Gs48m06NILH+5T5bsVFRxz62b1pRb/vTPMraW0GZ++XGZX2MtK/kUXajrNOfta1YReyr4qyPYk5DEVjpi86NFXSWjR/ztOPB+FxYSmRyb/33+zF83fjL4nRMaRa5rWn9rcPI7S/l/3dDkuSRnKkT1+uuHD09r76iZgyEY1oL5zBvpnpZebZffxZjebOfu+LntfC4Vbd92q7Crvc0nrCeGY/mRCnPicmtes3yG/HL3NgdntgaGLxCAAIQgMBGElgzUa/X09+7L/d3D6X5vCWtp0dy9KIvVxdtOdjdl6OnR/LotO8JA/VUnPAmvEI2XVGvdxZFivmyLbTWBf6X8LSiKDWixWfxy7usT1Xu91uYFU+bhnX8EyMjIDOfnb5iYtgTVJNFfWqtEFcw+xzrRzX0+sp8nixQdaxWkN1e1MdjMMIq5xUKeyW8TNm04yFrN2nM5bHlYyZga8X/JFv+GJnW37qMclrK954c3duTxv82pfGTuqrm7a14EwjhW4n6rJvC592bYY+JZ3NSaES34hupVxj7wWdPde+Ncz9PZvzY/Lrj2lyZ8spMHovjoAIouyAAAQhAYM0JrJeod9fTfxunv0Lp/aps+suU4XT8pbQf7En7XxG5CfetefZwv5xA5CStvPIK7ik7yVlBV2/tkv4s8+m8NUkMQAACEIDAFhNYK1Ff9nz6yvx9aMnOj+oHbkbSexk8MaeyITvXnYCZ4SxcfVj1wMysrTf7uupO4x8EIAABCEAAAssksFaivv8sKfxAzUR4nzqy/7gtvZdt6ZbecDrRChUgAAEIQAACEIAABCCwsgTWSNSXPJ++Dtq6j8mrY4s6EIAABCAAAQhAAAIQWDECayTqxzJ405X+1xUjiDsQgAAEIAABCEAAAhBYMoE1EvVLJkX3EIAABCAAAQhAAAIQWFECiPoVTQxuQQACEIAABCAAAQhAoC4BRH1dUtSDAAQgAAEIQAACEIDAihJA1K9oYnALAhCAAAQgAAEIQAACdQkg6uuSoh4EIAABCEAAAhCAAARWlACifkUTg1sQgAAEIAABCEAAAhCoSwBRX5cU9SAAAQhAAAIQgAAEILCiBBD1K5oY3IIABCAAAQhAAAIQgEBdAoj6uqQ2pt5YBq9PpPGfAzn4fl8On3ZlcLMxwREIBCAAAQhAAAIQ2EoCiPotS/vobVOa/4x01EPp/rIjO790ZbhlHAgXAhCAAAQgAAEIbBKBNRT1V9J9cS5GlubJKCvPa2zy1tXrtpwXoBSZ9J8mkuy25FLDGL9rSpI0pHu9yXSIDQIQgAAEIAABCGw2gTUU9X1pPY7NLJeVb3YCTXT905gwLzIZf+rJ2ZuBjHVDRL0hyCsEIAABCEAAAhBYXwKI+vXNned5XVHvNZKxnD9l+Y3PhHcQgAAEIAABCEBg/Qgg6tcvZ1GPZxH144uWHPzQkj43ykaZLrdwKN3HiSTRq1LL9Wwdex++blQuM+ufJpIkFX+n/bmHnfXZEmv5opX60LqY1NU6jY2ir4W4J4W77vtr53XdA10D/+edi3nbWwGEW/f5XAHm83QBUT9Pmku0NbWov+7K0a8dnnwzc86KYmVWU3HBOT/7s/q1Se3ijPMIEfU5i/luFcfxLKJhUv7m6/Ocrc1d+PWlpU5AF3CiOefIV8/cvHMxo71VHs+zfD6zRDMuV2HAL0HU68Sns2KxdeCTsBTXidsBtcWzmlOJ+pu+tJ/m9yWM33elx+NvJg28YH9RrAQVar+NH+DnZ7+2IxtcMc44D3j2L7LcxrRbs/e5TmNjPr5Oyt+07O+0/ozCr9xHxFM5mwl75p2LGe2t9XguRcy4LEVzhzvuXNRnX2TOZe6pZxtmE/Xj0UhGo5G9QVS+jdP3I3PH6B1C97oaj2QePtQW9TeKX1O67/rSf5/9dZ44SwA853hTTmA+YkXZjx/g52e/PIbt2RNnnMc/u8DObUy7NXuf6zQ25uPrpPxNy/5O688o/Mp9RDyVs5mwZ965mNHeWo/nUsRTjkulfZQuczRYptOcgtK+2FFG4I5FvT7Au2tXp55dn1LU3wzk7MmhHD1rSev3Q7mv1pB/7MrxT0dy8rwpjx7McrWgDOe05QPpfJ9I8tSuqs0MjM6leS+Rxt/1p8/rivr+6U5x7fB/ziqeU+98KV93pRFeYbFl5kQtOEHQ+xuvh1q8mnqJqLL834R+RB8w7NiJ5E0fYPO10YEvaWcT7JT66/RX6CdY+17YH/NDORP6otiYfmI8MnY+t4xg9iWRs518ab7Yd2wtd3gS3rpw/HJ5Fk7Otf2gPLQX3jOQC93cP9evsH2MhYT8T/slJ04ZuzQT6Zr6sjyZemHsk8rzGMyYdP3NY9V2tN9uvLlveW6LOTB+hP2ZsWT2p9aypRv2c1Tnc1g+7lzLqfXg3oSYr4W47YltHmM+LsKYVB0/rnBM5G0z7/L+AlvB2NS1J/BJowzq+P5kdpz/nbyGvoa5TltVHFMLn3OVRzu+w1zqeIM4Mx8cnyv6c6KQ0Hd3LIs4n43Anl/PtZhvV9vO6hVjj39eQ1veeCjNRdxW7qGIBHGldh17ed1gnCVuXor7ph3PeT+5T4pxyCfOPezfGQfacMbP4eHE6LPN64R9p8e7YNzlfo9l8OpYDv97Iq3nTTm8dyCti4F0tU5r/rw3lfbJ7bKlCNyxqFdduoOqOKAmp2UaUT+S3m9HzjPYB9L5H/Wc9qac34gM/thPBe404nmyf1PUuD6TR0kij/5yxa1I9pjJHWl9qG+rrqivb9HU1AdrRwSYg1D0g5zWyz/shQOhZ8ddF1reT0GkWRvO+NEHHiOe8tcp64QHbtuXEhM6rlhf5uQ0ti+14fhh0HqfBSNoTL0YD1MnkVwMVNQrPai6n8HcpmKWfxFU2FXxmHhNDIW+dB+2vMKerSMF4aB8ymKt47O56uHHFB0LNgfZhv9lFbS3/ukYbOzGSKS8dBzkY77qyzOzXMHMy4FIrc9IxdiuNZ5sLkzc7mt9X8O4q48jsbzX+IzYnMXHlBkT+XivYpjnrBZnF4varhoL3meuavxmx54oqzTW8PPm9uscj4PPa9ReeryKtEnL/c9Gzq86//n4CuHE8pv1kduuyKH3WSy3VXnsNnF5tgI/J+TQxjfxMxbzcbrx7HlW0V86xp3PQdU4LLJ28l8Vu2YWHUdu347To7fHcuRM6A1eKh22I813Y5GPbdlX+eAHMR1i020uQdRP52Cx9hSi/mNbDl+Yn1kSkfG5NNWAeaZmxsdy+eJA7v/QlPMl/fCSGtxJsiftj36Ugz/2JEmach65CjV8cyT7vxd/fOtORL33IY18iaRhZOX2IOEcdOyBz6lnThDsTI/Kj9dPRDCl7XW5rpsdVMzB0fBUY6Ul3Qt10lTPjnsS4vprRF9eFrc32Q/jW/4ab6PthzzMAdYw0u9zv7TdtDzkoffpnNgc6WI1hlqv++lVG3uQDr7oDIepRb320++zyLBoP3MuzsiIIP0FZMdaELdhFszw6rDTF9uv4h3+GdaTxpBllecuzMvwoi/qTx2Bsj6LX56mTf0cFDlqatkTlLT/WX8Bm8JYyH33PoeGoWXh0jN5cE/2sv2Wq2VTjLvAQTVVfp22pK+fBBTN/23GlBkr1q88bsPfRJjnrB5n086+Gnbh+DM+mMmCQHDb9ro8/+zEj70hRzt+3JMx7UsWY9yOmXgz/UXZ26srZvzm/KYfN8GYDG0bTsHYK403qCfXfemrPzWWorkwvhf9yHKgObkc1Q7jl1Oe+RTY0fUMT9U0yrTmeM7HRdwH32fjy6QYTB6Ln8/6zMrGk+vxQNoP2/bHL5UOO1c/iJmcpMfE8Ye2HNw7kOY//kSna4HtagKbLeq/jWX8zQHwsS17SSLHbws/vepUCjdHcvmqJa3nU/y9uoz84m1o1x/M+d4r6fxY/HI0+4fvOnJ2UfR/8aI+/9CnvtiDY0QEKVFkvizNgS880Coj3heMObAG/Zj2odCy73V9z5ah5bzWtWPqhf7q8vzAXPIFP8kPxyWzGT3AGwFpv/Btbe9Rl9mXSEkOgllAY8F8aXtfvvnOdCv8wsx3h3GXHcjLyv0volRAm7Fiha75IjK9mrFRHmcqUirYxxkb+5EvsnyXsxXGbnYF5YWxYur5rwXGgf+F/bZ5vL/CeP8w+gAAFiVJREFUyUj4GbHtjajIeRbG9YRx55hKN2v7anOcf84n5UZ1MLGO+dyamCeOqSDndXIW9mH6sq95TB4fndeccb7Xi0vXK82jjanks+WNn2yMNF73Iyd2/jGzuj891myM+Zgx7bITBFMvZBCM1Tx0ldXMt4m23UY6dtvG9FfVj9O+LBceO6e+2qwaGxXtstzmvNz8e3kPukvfhmPN5j6obOqF31eqmuvbFDEUPsu1mZWMy8DlsfcI7YG0HySSPOnV0EyBId5GCWy2qA9CvvrzoLAeM6gSf3ujb+jQN9umN3dUbXuDNm5SpGQwD7N16wd/XpU1jJYvXNQHB5XwgGUO8PbV1K86mHj7Sg7K+oBi7dqDuTlYmoO6whIe8M3SjfwAN9GO55ODulBe4m/apMIPx6TZjB/gy+y75Xq7wMSwcZfTmN7y1+zgndfNRb7bR17fbKXtTH4N88KXSvEAX+jP+G1tBULLdGj6MPUjr0pYxDlqI+k4Ck8WbAfFWfN8l7NVxiUod79MndbhZtmXpyeSHDZuey8HtT8jxXFpPg+54AhisZ2WlasKVft0Tp04CnErE/rzZfzJr+BlDpTldvYxFYy1OjmrzdlCyzaqbDv7ah9Tzeeh6jOX8szGe2o35a/zpNvV6698zJhcVY/XqrFR17b5bDvHKnsMMMf/4vEmyEJ1Lpw8FNpV7dPjNmOgWpbHlH/GTDzF41Gd8ez5V/hecva6+2rEYPwrfD7L2hbKa+bAcVE+d+SgdPLJrch2XQJbJOpH0nuSSPKgLQOXzk1kjYu7f1HbejCXrqdPLzuPZWROEL4Npf+qJZ03g/wJPo5vdy3qs1mA4kHJcSnb1AeWXDA6NbyDQsnBv3DQdNpP2nTbuttV7XQ9c4CzVQvlJf7aBs7GhL7jgqXMvl+eHoAdweT0OuWmtqu/8AsHdmvN799+iVUJDNVW5zocB6H/8X5936wr4YY3nvydccZ5nXi/+f5sK4zd7A/KC2PF1JN06Y25sFzoM/C/sN+aifeXCwtb0dvI7Dknuune7Is4H++BbWuhrDyrUNvXyEy97cLdSFnkx5do/m41pgJRXydnEz7HrvvetvYzZ5zv9eIKYs5rhVvl4snkoZv+2JoWvMbuRTZhZMeJKa9cfqrzXvh8hz6VjY+yctW+pm3N3V791V1n7Iyor+gnXX6jG+lcWAYmjLJytb9ibJjjmrFX7zNWIuq1D5OOkcbl9NWwieXHjWnqGAzX/NhtYrT9u/bTwvJxadsEG9ElyOEKi6ANb6sJbLSoH/1zLPeTHTn+ZxSspzdQLtP1XZ7IN7sW/JoN5vALVn3RqKfTHEtPrbD52JZGOmM/lvPn6pdf1Y2+h3L2pejcnYt6OyPhfPhTt4YydL8kzEHHWXeYVrPl5ou77KCsy8P1qOor4drIo+wgWTjoeAeyenZKD+CeLRVB3F/1RVPtRzF33he73R23X+i35ItAroflTzRSsRS+BPz+Mp+cZVTaL/OllX/Bxriasvz+iGiMZgw4JyVGlATPg7JPdigIIzdOYy8cK4ZRWG5ZBwLPKQ83Tfxujk1ZkUnw+bb+ZZ+ZQqzBl+TtcpB5nn9G/PyauEwfOdd4vcK4Mwb0q7GTM8h2FNkUWUePXVEW5liR2b7tmPL552PWza05HmQ3Wpo6vh/Km5yzBuK+lI0/W26OoVoURZY+ecdUc+wtfIZzAZbOotv9xq6a6TZ9KQdNuVuWRuMdw01u8zGig3M/eyXHw7rjptJ2MBay3ou+Gz99UWxypj+LUVs5Ny/3OsycU9nn2ZTHPzvGLzfG2NiNldnx5xwjrVtqwx5TjA96ry03Y9XwKquXjwH/c1HBpsBS92HHnedp9ubruRzfS2TnN3VfYHwJ8uWLw8J9hhFLFJUQ2GBRP5Ler+ogti+tD+P0iTI76pKdM+CuXjWmXF9fQnHqYjOY/eUR44tWduf3T2eiFt9cvmhkAv7mXM7eDEW+nMnhblP6kYsL0S9GddAuOxjU9jl+oFLNzcHKXIb1Xk2/9uASu3Tqxl/ej5kN8ey7l18r+zAHtfzgVGpHBaVtuQfgFFWhPP+yyOw1pPv/mUd+xmJ1/AjYhxyzvst4hOWhH37fhTjMl6/lV1a/2q4r3kL/Pb7m82YFjN+fravHS+ELxbLKv5RsGycG82Vc6ctEUV/im3vcqIrDjHnlc0U942sh1sKXZP0cVPVnhFzWX3mM0407mxi9Ud9XL+4KTsZv1UGY19TXyrb5CanXn+N2obzCnslZHc5OF9lmhV01lq3tSJzeWLfjK/ws5IKsTIDa3JvPo3Yy5FqvP38MZf7r/FsfDYWycrM/jCViu/L4ruqb+Ctsmbh1LlzmqSdl5cbNmjm0nJ1jk8vUHI9D7tOMZ+NS+jqBjenPjdH1x2y79co+F5OZhfxNXnKPR2+O0gcR7D+/lPHNuTR33fxJqnEarK/Pgc2wtcGiXkQ9Kea7n5rSenYkjd97MrhoycG9Q2k+b8nJkyNpvplu3foMfEua6PX09+7L/d3Mn9bTIzl60Zeri7Yc7O7L0dMjeXTa95baqKfi7LlP83GsL0PUp91HDireh98Rw9EDmY1h+oO/eyBSZkL74brcrKvwwOOeWEwj6kPhlov2en7YwJ0Zs+wLLYurjEe8vNhn8YDq9mhOXsxBXb2GPFV9/0tKxRjv36+n+taczZepMhZ+Map9pmyiqM+89/vJhZsXm7Gpv1hVXBmfPEde/UKcvrBIGTlx+KzLmbgCK+Ps91/3y9OPeZr+ijn1bWWC0pTNMu6qOcZ9LcQd5R+OX/9za8dqkOt00saUTRhTMT8m5UyPwuA59UXOHhftjzouGtbmc+cdK02jScfUwrHOZxWNy/HBdGNfa/Sn6oa+uyf25TPy8eOF7VtvVNvOj8uGW9q39TsWf/4ZtmNF9VXGoazcddT2p207xy83j2Esbt5zX2Yfz65L5jiu7PrHpbIx6fcb+44sjJ8yNpFy3wc/L6nf1z05+r9K85zI0eOm9D72pfXDfTn8vSWtZ8dy9LQnV+7DTbxgeVOHwEaL+hRAepOrM7Wtf0nWeypOHVLzrOOup4/9sm36S2uOz2nfl9J+sCftf0Ukch/A4kT9LQPXB8L8YHZLezRfMoF6X9JLdpLuIQABCGw+gXX8fjUazMlO+kuy5v5Bp5zN6QlsvqifnsnCW0RvDpnU64eW7PzYkSsZSe9l8fFPiPpJANk/HwKI+vlwxAoEIACBWxJYR1F/y5BpXk0AUV/NZyF7+8/Ur9pGLk1V9fapI/uP29J72XZ+ITdvgKjPWbC1SAKI+kXSxTYEIACB2gQQ9bVRbUtFRP2dZ7rk+fR1/BiP/B/TctqsrKh3fGQTAhCAAAQgAAEIQGAxBBD1i+FaYXUsgzdd6X+tqDLDLkT9DNBoAgEIQAACEIAABDaEwBqKepFxeA+pTkZZ+YbkqjqMkuBLiqttsRcCEIAABCAAAQhAYK0IrKWoXyvCOAsBCEAAAhCAAAQgAIEFE0DULxgw5iEAAQhAAAIQgAAEILBoAoj6RRPGPgQgAAEIQAACEIAABBZMAFG/YMCYhwAEIAABCEAAAhCAwKIJIOoXTRj7EIAABCAAAQhAAAIQWDABRP2CAWMeAhCAAAQgAAEIQAACiyaAqF80YexDAAIQgAAEIAABCEBgwQQQ9QsGjHkIQAACEIAABCAAAQgsmgCiftGEsQ8BCEAAAhCAAAQgAIEFE0DULxgw5iEAAQhAAAIQgAAEILBoAoj6RRNeQfvj64H0Xp3I8c8HcvDjgTx60pLex5H2dCi9065craDfuAQBCEAAAhCAAAQgECeAqI9z2czSr31pP/5Odna/k8azrvQ/D2U0Gsnoy6Wc/XYgjb/60vttX5Jn/c2Mn6ggAAEIQAACEIDAhhJYL1F/3ZVGkkjj9XDx6bjLvhYfjYwuWnKwm8j9X89kYCblvX6vpPMwkSRJ5PhttIJX+27f9KWVJJKclpxsbFiuFsJ2CkbD1w1JkoZ0rxfiCUYhAAEIQAACEFgAAUR9GdQpRFCZifLyCSK1vOFMe8YXLdlPEtn5pStVp0OZmDuQzueZullgowm8IrlaX2E6lO7jRJLH1bmaGnaEUZmN9WVXFhHlEIAABCAAgc0nsF6i/i7zMYUImt6tCSJ1eoPlLVQcu4kkD06kf1NeLd1z0ZLkQVsGE6rd/e7pea2vMF2QqJ8iaevLboogqQoBCEAAAhDYMAKI+rKEboSoH0nvyU66pOboTY0lNUrUPz2XcRmTpZUj6u8S/TSifjxavdFyl6zoCwIQgAAEILAqBNZL1BeEtjOrqfepNeHqr866+0y8ZPWzdi2xq7YLfZUJy1i5LtO+KNutiyzlxT6La8X7p65PYSyxmEvWP//blj3lw25T+nW019eBDL5OPzSLMTkclTl1sqAZ+LEF9dKudXyWnYotxtjx08tVkb2/Pry43+TGsRhsFtsUx1dYJ8iJ46PPy6mnOWVjUY8Bswwn1t7sExHfZnFMidPeCy7s87SvbTl+eQ3yN6N/jmUnOZSzL3mZ2hr8eSA7uy259It5BwEIQAACEIDAAglshqi3AtAXw+ViLRSObjstZgoiSIu2ws2aYXko7nLbSggWxJfy3dqsbpuNg5jvcQE2+GMvFdOLnH33RXoeq7cmPBSObr4cYSpSHn8qdC2n4BPh5Spmw/CJ7ct8Lop03UeV78af0jqmXxEjqj3Bbjnok5uYHcNHx+i1T/fFxoPJg3PS5DHSIym9IdbUDV8d3wPc5m3/mWpzkp8IpzuupPNjIsmE+zeMDV4hAAEIQAACEJgPgc0R9UZgKS5GHLllLi+z3wgmu68v/Yth+mdEWC72tCAs2AzKI+JJme+fNqT1uq9vVA3a6P4zwV8UU1m5EWiOiCv4YgNRc7fZDZfqqsXfVbfHum3C7bFcvjiUwz9LVtkboRn4kQl946+TD++JKsa/PF57guDZM/Xck5/AzwjzKMtIPWXJz41rO+87PEEcXvRF/amMxm9s1eUmFsPKuWqT9Z2J6dx+ib2S9vYkMRjLhqUdv2Hs1l7OP43cfDa8XLlMzPZA2g8SSZ70xFvYNerJcZLIwZ+RXzq47snR90059xoYe7xCAAIQgAAEIHAbAhsi6h0BmdIoEUaaVEF0xgiGIsjMIhuRZtuEAj18bys6G7E62mc7exvOnJolPKZeGLNjPt3UfQQiMqxl399cyeWnUG2NZfB3R3qf66zdyfvLZpMd/7RQtALTdKrLM0FblbMYL2MknwV37UdFfWkOHVvuZmEMuDv1thXHxXx5HEy9cPwU+ijhUNK+fCwHdsJ+PPZ+XHF2fh353JGDJJFHf/knjON3TUmSHbvczGt1fS6dV33/JMCrwBsIQAACEIAABGYlsBmiPpiltLPUhXKFKRA7ZeRCEVQqCOOC08yU2uUSnpiLtQlFcVEkTha/bjB6GURNUT96czTT8+ntTHHhZKQo6vPZaO2nJyxjTEw8OmceQ7NvGlGftanOjWPX888pdzd1HZvnMg6F8aSNFMpLxmehnmpfUleb9gR/0L5SuKcxBTP4bswiMnp7LEmyJ+2P/o7L5+rG7Kac1zkP9JvyDgIQgAAEIACBWxDYQlGvllsoweyITgtQLb/RbwIRZNd7F4RllRg1hkNRGmsT1jFtw9dqIefW7p9mT75pvpuksAbS/rkll2610UB6L1tydhHO3js9aEbe+nl706bDt0wce+VVccV4Ff2YPFPvtLGbFdwLY8A2SpfepHPUuk7hhCWvmm2V2SqUl3Ao1MvMlo/lwE7Y3mPvO1sp+NOqYzl/qj5DJevpzcn0zcg+SWn4/kxaL3symPRYVd8V3kEAAhCAAAQgUJPAVop6u+beiA8Ny8zgpuIwFEFmVtRba6yFk5qdNWJftTPbNgmBwCqZ9Tez3q44TU1cD50fjQpt2U6KG/rpNzuVj6kcS//0kbQuXEV/JWfPujIcnctx0pT+t6LptCQqDLUAd0+aovXytfZGEBv+lmXaSYRx6E4hV+ZpMMFsc63cuMbzvo2P6V7dX3ZiaOoEfamTm2tnaUrER9dWnvOS/Ja0N2MmPLEyLK3dsL2NIfBb58p/YpDLRG3r9fTB58fch7L3h7oHQz1ONZuxH79rpeNr8HJfDl9F1tqH5nkPAQhAAAIQgMDUBLZT1FuBXlziYsVRKILsDHSkjRX1RuDF61iBZUS9XaphZrWNII63z4RlieiLpl4J9v10jXPjr4iY+nYlvd8eyfFbR3wqO5/P5OyDyPh9U3YenkmkZdabFYZxf+3VkJqi3l4NsVwCu4WTJR10jVw1Xv8/e+NwbKlMnpsApBW5gS/usqaKOpZBxMe0p0J5OIa06C7UM36G9V0/zbiqWqLk1ne3A7FvulOvej19suvYV5+pX7IrQyfvReRrT46f9mUsYzl/1ZOhXMnZwx1pvndPHs14d+24HbENAQhAAAIQgEBdAlsq6jM8dpbTiEhXNJaIKDMDmt8EGVkaotu64jEUjX7fvqjx+0jEnmikbk8j6lWDkVy+fCT3k0Tuf38kzectaam/pw05eHwivU+uyHKHjZppTWTij1aFsarZW1um46ot6lX/oUhVNiKMXVejuTKCMROqlr/1LRewdp9r09v2bcVnscM6we8LRH2Mi217JSkdl5NEfeaoP56cK0cmjrL+gxMSxSKzVS7qs/X0O3L/3o7s/3oirecncvxrU7qfBtL79b7s/NSU5s9H0r02nYvIx7bsPWgHz643zPzx77RiEwIQgAAEIACBmgTWS9TXDIpqEQLjkVx96Ev/vfq7lKuvZWJet/3ak6PkSHpfRcY3E+pGuqNoUwn46+nHo5GMgl+VVWXjYMnW5Ys92XtxKfJtXNi3qaSICwIQgAAEIHCXBBD1d0l7jfoa/t2Q7EerLqXzJ78NukapW7CrJc+nr+z1Ulq7B9L5LDJ600lPFCursxMCEIAABCAAgakJIOqnRrYdDUb/HMv+0zPpvuhInyeWbEfS60R5fSaP1A+avQ7uw6hsO5DO9w1pv+lIe+YfQqvsgJ0QgAAEIACBrSeAqN/6IVABwHkkYUUtdm0RgbLn009GMJYRJ4eTMVEDAhCAAAQgMCMBRP2M4GgGga0k8LUv3TcD+/z5rWRA0BCAAAQgAIEVJICoX8Gk4BIEIAABCEAAAhCAAASmIYCon4YWdSEAAQhAAAIQgAAEILCCBBD1K5gUXIIABCAAAQhAAAIQgMA0BBD109CiLgQgAAEIQAACEIAABFaQAKJ+BZOCSxCAAAQgAAEIQAACEJiGAKJ+GlrUhQAEIAABCEAAAhCAwAoSQNSvYFJwCQIQgAAEIAABCEAAAtMQQNRPQ4u6EIAABCAAAQhAAAIQWEECiPoVTAouQQACEIAABCAAAQhAYBoCiPppaFEXAhCAAAQgAAEIQAACK0gAUb+CScElCEAAAhCAAAQgAAEITEMAUT8NLepCAAIQgAAEIAABCEBgBQkg6lcwKbgEAQhAAAIQgAAEIACBaQgg6qehRV0IQAACEIAABCAAAQisIAFE/QomBZcgAAEIQAACEIAABCAwDYH/Hy2mKGpo7OziAAAAAElFTkSuQmCC)"
      ],
      "metadata": {
        "id": "DgRIymj2yt5p"
      }
    },
    {
      "cell_type": "markdown",
      "source": [
        "Inertia is a measure of how internally coherent the clusters are. **Lower inertia** **indicates that the data points within each cluster are closer to** **their centroid**, suggesting **tighter and more compact clusters**. Conversely, higher inertia implies that the clusters are more spread out, with data points farther away from their centroids.\n",
        "\n",
        "In **K-means, the algorithm aims to minimize inertia** by iteratively adjusting cluster centroids until convergence. The final centroids represent the center of gravity for each cluster, minimizing the total within-cluster variation. Therefore, inertia is often used as an evaluation metric to assess the quality of a K-means clustering solution: lower inertia values indicate better clustering performance."
      ],
      "metadata": {
        "id": "TEaCXF6Gy3oA"
      }
    },
    {
      "cell_type": "code",
      "source": [
        "from sklearn.metrics import silhouette_score"
      ],
      "metadata": {
        "id": "uMSgW313xpzW"
      },
      "execution_count": null,
      "outputs": []
    },
    {
      "cell_type": "markdown",
      "source": [
        "Silhouette analysis is a technique used to evaluate the quality of clusters formed by a clustering algorithm, such as K-means or hierarchical clustering. It provides a measure of how similar an object is to its own cluster (cohesion) compared to other clusters (separation). The silhouette score ranges from -1 to 1, where:\n",
        "\n",
        "A score close to +1 indicates that the object is well matched to its own cluster and poorly matched to neighboring clusters.\n",
        "A score close to 0 indicates that the object is on or very close to the decision boundary between two neighboring clusters.\n",
        "A score close to -1 indicates that the object may have been assigned to the wrong cluster."
      ],
      "metadata": {
        "id": "69KOcG8lzQJw"
      }
    },
    {
      "cell_type": "markdown",
      "source": [
        "![image.png](data:image/png;base64,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)"
      ],
      "metadata": {
        "id": "hl6t5lu70sJX"
      }
    },
    {
      "cell_type": "markdown",
      "source": [
        "The silhouette score for the entire dataset is the average of the silhouette scores for each data point.\n",
        "\n",
        "**Silhouette analysis helps in understanding** the **cohesion and separation** of **clusters**. A **high average silhouette score indicates** that the **clustering configuration is appropriate**, with **well-separated** and **compact clusters**. Conversely, a **low** average **silhouette** score **suggests** that the clusters may be **overlapping clusters** or poorly defined.\n",
        "\n",
        "By using silhouette analysis, you can compare different clustering algorithms, evaluate the consistency of cluster assignments, and determine the optimal number of clusters for your dataset."
      ],
      "metadata": {
        "id": "HM-UjyPb01hb"
      }
    },
    {
      "cell_type": "code",
      "source": [
        "silhouette_score(x , kmeans.labels_)"
      ],
      "metadata": {
        "colab": {
          "base_uri": "https://localhost:8080/"
        },
        "id": "KJgIwe_DxqDz",
        "outputId": "929a5995-bca9-41f9-818b-474472a8f1a6"
      },
      "execution_count": null,
      "outputs": [
        {
          "output_type": "execute_result",
          "data": {
            "text/plain": [
              "0.007074378593729938"
            ]
          },
          "metadata": {},
          "execution_count": 13
        }
      ]
    },
    {
      "cell_type": "markdown",
      "source": [
        " a silhouette score **close to zero**, such as the one we provided, suggests that data points are close to the **decision boundary** **between clusters**. This could mean that the **clusters are not well-separated**, or that some data points are misclassified.\n",
        "\n"
      ],
      "metadata": {
        "id": "tGvVhAKD6XDa"
      }
    },
    {
      "cell_type": "markdown",
      "source": [
        "**Improving silhouette scores** in text clustering can be achieved through various techniques, even if you only have dimensionality reduction techniques like UMAP available. Here are some approaches:\n",
        "\n",
        "- Stop Words Removal:\n",
        "\n",
        "Removing stop words, which are common words like \"and,\" \"the,\" \"is,\" etc., can help improve the quality of text representations by reducing noise. This can lead to better-defined clusters and potentially higher silhouette scores. You can **remove stop words before or after dimensionality reduction** , depending on your preference and the specific characteristics of your data.\n",
        "\n",
        "\n",
        "- TF-IDF Vectorization:\n",
        "\n",
        "Term Frequency-Inverse Document Frequency (TF-IDF) vectorization is a technique that assigns weights to terms based on their frequency in a document relative to their frequency in the entire corpus. TF-IDF naturally downweights common words (including potential stop words) and upweights rare words, which can improve the discriminative power of features and potentially lead to better clustering results.\n",
        "\n",
        "\n",
        "- Feature Selection:\n",
        "\n",
        "Feature selection techniques can be used to choose the most informative features (words) for clustering while discarding less useful ones. Techniques like mutual information, chi-square test, or feature importance from machine learning models can help identify relevant features and improve clustering performance.\n",
        "\n",
        "\n",
        "- Word Embeddings:\n",
        "\n",
        "Utilizing word embeddings, such as Word2Vec, GloVe, or FastText, can capture semantic relationships between words and enhance the representation of text data. Word embeddings often encode contextual information and can mitigate the impact of stop words by focusing on the meaning of words rather than just their frequency.\n",
        "\n",
        "\n",
        "- Clustering Algorithm Selection:\n",
        "\n",
        "Experimenting with different clustering algorithms might yield better results for your specific text data. Some algorithms may be more robust to noise (including stop words) or may better handle the high-dimensional space produced by **UMAP** .\n",
        "\n",
        "\n",
        "- Domain-Specific Knowledge:\n",
        "\n",
        "Incorporating domain-specific knowledge about your text data can help identify irrelevant words or phrases that can be safely removed. This knowledge can guide the preprocessing steps and improve the quality of the text representations.\n",
        "\n",
        "\n",
        "\n",
        "By incorporating these techniques, you can potentially enhance the quality of your text representations and improve the silhouette scores of your clustering results, even when limited to dimensionality reduction techniques like UMAP."
      ],
      "metadata": {
        "id": "-sj4dCUW1SWA"
      }
    },
    {
      "cell_type": "markdown",
      "source": [
        "In the context of text clustering, where the data might be **high-dimensional** and sparse (e.g., using techniques like TF-IDF or word embeddings), **silhouette** scores **tend to be lower** compared to datasets with lower dimensionality and denser data. This is because text data often contains noise, ambiguity, and inherent similarities between documents that make it challenging to form distinct clusters.\n",
        "\n",
        "**high dimensional = low silhouette score = not good separated clusters**\n",
        "\n",
        "**make lower dimensionality ----> feature reduction ----> remove stop words**\n",
        "\n",
        "\n",
        "\n",
        "in NLP each word is feature"
      ],
      "metadata": {
        "id": "X8q_Wm33q7C_"
      }
    },
    {
      "cell_type": "markdown",
      "source": [
        "**UMAP** (Uniform Manifold Approximation and Projection) is primarily known as a **dimensionality reduction technique** that is often used for **visualizing** high-dimensional data in lower-dimensional spaces while preserving the underlying structure of the data. However, UMAP can also be applied in text clustering tasks, particularly for feature extraction and visualization."
      ],
      "metadata": {
        "id": "WXcaUxCn0EZp"
      }
    },
    {
      "cell_type": "code",
      "source": [
        "# define x with label feature\n",
        "xl= data[\" Question\"]"
      ],
      "metadata": {
        "id": "AzbVe0QaxjBV"
      },
      "execution_count": null,
      "outputs": []
    },
    {
      "cell_type": "code",
      "source": [
        "# add label of cluser as feature  to xl\n",
        "# so xl is dataframe with a feature= question , second feature = labled cluster\n",
        "xl[\"clusters\"] = kmeans.labels_"
      ],
      "metadata": {
        "colab": {
          "base_uri": "https://localhost:8080/"
        },
        "id": "cgcybj1F2RSO",
        "outputId": "eb31b5a1-f4ae-45f2-a204-dfff004465eb"
      },
      "execution_count": null,
      "outputs": [
        {
          "output_type": "stream",
          "name": "stderr",
          "text": [
            "<ipython-input-15-0fe5b3cd74b9>:3: SettingWithCopyWarning: \n",
            "A value is trying to be set on a copy of a slice from a DataFrame\n",
            "\n",
            "See the caveats in the documentation: https://pandas.pydata.org/pandas-docs/stable/user_guide/indexing.html#returning-a-view-versus-a-copy\n",
            "  xl[\"clusters\"] = kmeans.labels_\n"
          ]
        }
      ]
    },
    {
      "cell_type": "code",
      "source": [
        "# Count the most common words in the clusters\n",
        "from collections import Counter\n",
        "\n",
        "# Filter xl DataFrame based on the \"clusters\" column\n",
        "cluster_1_data = xl.loc[xl[\"clusters\"] == 1, \"Question\"]\n",
        "\n",
        "# Join the text data together and split it into words\n",
        "joined_text = \" \".join(cluster_1_data)\n",
        "words_split = joined_text.split()\n",
        "\n",
        "# Count the occurrence of each word and find the most common ones\n",
        "words_common = Counter(words_split).most_common(120)\n"
      ],
      "metadata": {
        "id": "cGVdpUE5DBjV"
      },
      "execution_count": null,
      "outputs": []
    },
    {
      "cell_type": "markdown",
      "source": [
        "**Counter helps you count** the occurrence of **words** in a text, which is useful for identifying the **most common words and topics in a cluster**\n",
        "\n",
        "\n",
        "This is helpful in text clustering because it allows you to identify the most frequent words in a cluster, which can give insights into the topics or themes present in that cluster\n",
        "\n",
        "\n",
        "**most common words ==  cluster topic**"
      ],
      "metadata": {
        "id": "wN6Cy2FMqH9Y"
      }
    }
  ]
}