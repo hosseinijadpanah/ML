{
  "nbformat": 4,
  "nbformat_minor": 0,
  "metadata": {
    "colab": {
      "provenance": []
    },
    "kernelspec": {
      "name": "python3",
      "display_name": "Python 3"
    },
    "language_info": {
      "name": "python"
    }
  },
  "cells": [
    {
      "cell_type": "code",
      "execution_count": 1,
      "metadata": {
        "id": "aTMWQAa9NTZG"
      },
      "outputs": [],
      "source": [
        "import pandas as pd\n",
        "import numpy as np\n",
        "import matplotlib.pyplot as plt"
      ]
    },
    {
      "cell_type": "code",
      "source": [
        "df = pd.read_excel(open(\"Descriptive-statistics-HomePrice.xlsx\", \"rb\"), \"Data\")\n",
        "df.head()"
      ],
      "metadata": {
        "colab": {
          "base_uri": "https://localhost:8080/",
          "height": 206
        },
        "id": "LDsiyvLzPM7g",
        "outputId": "8c99e79b-43e3-47b2-ec7a-93f009b216e8"
      },
      "execution_count": 5,
      "outputs": [
        {
          "output_type": "execute_result",
          "data": {
            "text/plain": [
              "     ID  Building  Year of sale  Month of sale Type of property  Property #  \\\n",
              "0  1030         1        2005.0           11.0        Apartment          30   \n",
              "1  1029         1        2005.0           10.0        Apartment          29   \n",
              "2  2002         2        2007.0            7.0        Apartment           2   \n",
              "3  2031         2        2007.0           12.0        Apartment          31   \n",
              "4  1049         1        2004.0           11.0        Apartment          49   \n",
              "\n",
              "   Area (ft.)        Price Status  \n",
              "0    743.0856  246172.6760   Sold  \n",
              "1    756.2128  246331.9040   Sold  \n",
              "2    587.2808  209280.9104   Sold  \n",
              "3   1604.7464  452667.0064   Sold  \n",
              "4   1375.4508  467083.3132   Sold  "
            ],
            "text/html": [
              "\n",
              "  <div id=\"df-f291ac3d-c87d-4618-907d-5c91f3e98f26\">\n",
              "    <div class=\"colab-df-container\">\n",
              "      <div>\n",
              "<style scoped>\n",
              "    .dataframe tbody tr th:only-of-type {\n",
              "        vertical-align: middle;\n",
              "    }\n",
              "\n",
              "    .dataframe tbody tr th {\n",
              "        vertical-align: top;\n",
              "    }\n",
              "\n",
              "    .dataframe thead th {\n",
              "        text-align: right;\n",
              "    }\n",
              "</style>\n",
              "<table border=\"1\" class=\"dataframe\">\n",
              "  <thead>\n",
              "    <tr style=\"text-align: right;\">\n",
              "      <th></th>\n",
              "      <th>ID</th>\n",
              "      <th>Building</th>\n",
              "      <th>Year of sale</th>\n",
              "      <th>Month of sale</th>\n",
              "      <th>Type of property</th>\n",
              "      <th>Property #</th>\n",
              "      <th>Area (ft.)</th>\n",
              "      <th>Price</th>\n",
              "      <th>Status</th>\n",
              "    </tr>\n",
              "  </thead>\n",
              "  <tbody>\n",
              "    <tr>\n",
              "      <th>0</th>\n",
              "      <td>1030</td>\n",
              "      <td>1</td>\n",
              "      <td>2005.0</td>\n",
              "      <td>11.0</td>\n",
              "      <td>Apartment</td>\n",
              "      <td>30</td>\n",
              "      <td>743.0856</td>\n",
              "      <td>246172.6760</td>\n",
              "      <td>Sold</td>\n",
              "    </tr>\n",
              "    <tr>\n",
              "      <th>1</th>\n",
              "      <td>1029</td>\n",
              "      <td>1</td>\n",
              "      <td>2005.0</td>\n",
              "      <td>10.0</td>\n",
              "      <td>Apartment</td>\n",
              "      <td>29</td>\n",
              "      <td>756.2128</td>\n",
              "      <td>246331.9040</td>\n",
              "      <td>Sold</td>\n",
              "    </tr>\n",
              "    <tr>\n",
              "      <th>2</th>\n",
              "      <td>2002</td>\n",
              "      <td>2</td>\n",
              "      <td>2007.0</td>\n",
              "      <td>7.0</td>\n",
              "      <td>Apartment</td>\n",
              "      <td>2</td>\n",
              "      <td>587.2808</td>\n",
              "      <td>209280.9104</td>\n",
              "      <td>Sold</td>\n",
              "    </tr>\n",
              "    <tr>\n",
              "      <th>3</th>\n",
              "      <td>2031</td>\n",
              "      <td>2</td>\n",
              "      <td>2007.0</td>\n",
              "      <td>12.0</td>\n",
              "      <td>Apartment</td>\n",
              "      <td>31</td>\n",
              "      <td>1604.7464</td>\n",
              "      <td>452667.0064</td>\n",
              "      <td>Sold</td>\n",
              "    </tr>\n",
              "    <tr>\n",
              "      <th>4</th>\n",
              "      <td>1049</td>\n",
              "      <td>1</td>\n",
              "      <td>2004.0</td>\n",
              "      <td>11.0</td>\n",
              "      <td>Apartment</td>\n",
              "      <td>49</td>\n",
              "      <td>1375.4508</td>\n",
              "      <td>467083.3132</td>\n",
              "      <td>Sold</td>\n",
              "    </tr>\n",
              "  </tbody>\n",
              "</table>\n",
              "</div>\n",
              "      <button class=\"colab-df-convert\" onclick=\"convertToInteractive('df-f291ac3d-c87d-4618-907d-5c91f3e98f26')\"\n",
              "              title=\"Convert this dataframe to an interactive table.\"\n",
              "              style=\"display:none;\">\n",
              "        \n",
              "  <svg xmlns=\"http://www.w3.org/2000/svg\" height=\"24px\"viewBox=\"0 0 24 24\"\n",
              "       width=\"24px\">\n",
              "    <path d=\"M0 0h24v24H0V0z\" fill=\"none\"/>\n",
              "    <path d=\"M18.56 5.44l.94 2.06.94-2.06 2.06-.94-2.06-.94-.94-2.06-.94 2.06-2.06.94zm-11 1L8.5 8.5l.94-2.06 2.06-.94-2.06-.94L8.5 2.5l-.94 2.06-2.06.94zm10 10l.94 2.06.94-2.06 2.06-.94-2.06-.94-.94-2.06-.94 2.06-2.06.94z\"/><path d=\"M17.41 7.96l-1.37-1.37c-.4-.4-.92-.59-1.43-.59-.52 0-1.04.2-1.43.59L10.3 9.45l-7.72 7.72c-.78.78-.78 2.05 0 2.83L4 21.41c.39.39.9.59 1.41.59.51 0 1.02-.2 1.41-.59l7.78-7.78 2.81-2.81c.8-.78.8-2.07 0-2.86zM5.41 20L4 18.59l7.72-7.72 1.47 1.35L5.41 20z\"/>\n",
              "  </svg>\n",
              "      </button>\n",
              "      \n",
              "  <style>\n",
              "    .colab-df-container {\n",
              "      display:flex;\n",
              "      flex-wrap:wrap;\n",
              "      gap: 12px;\n",
              "    }\n",
              "\n",
              "    .colab-df-convert {\n",
              "      background-color: #E8F0FE;\n",
              "      border: none;\n",
              "      border-radius: 50%;\n",
              "      cursor: pointer;\n",
              "      display: none;\n",
              "      fill: #1967D2;\n",
              "      height: 32px;\n",
              "      padding: 0 0 0 0;\n",
              "      width: 32px;\n",
              "    }\n",
              "\n",
              "    .colab-df-convert:hover {\n",
              "      background-color: #E2EBFA;\n",
              "      box-shadow: 0px 1px 2px rgba(60, 64, 67, 0.3), 0px 1px 3px 1px rgba(60, 64, 67, 0.15);\n",
              "      fill: #174EA6;\n",
              "    }\n",
              "\n",
              "    [theme=dark] .colab-df-convert {\n",
              "      background-color: #3B4455;\n",
              "      fill: #D2E3FC;\n",
              "    }\n",
              "\n",
              "    [theme=dark] .colab-df-convert:hover {\n",
              "      background-color: #434B5C;\n",
              "      box-shadow: 0px 1px 3px 1px rgba(0, 0, 0, 0.15);\n",
              "      filter: drop-shadow(0px 1px 2px rgba(0, 0, 0, 0.3));\n",
              "      fill: #FFFFFF;\n",
              "    }\n",
              "  </style>\n",
              "\n",
              "      <script>\n",
              "        const buttonEl =\n",
              "          document.querySelector('#df-f291ac3d-c87d-4618-907d-5c91f3e98f26 button.colab-df-convert');\n",
              "        buttonEl.style.display =\n",
              "          google.colab.kernel.accessAllowed ? 'block' : 'none';\n",
              "\n",
              "        async function convertToInteractive(key) {\n",
              "          const element = document.querySelector('#df-f291ac3d-c87d-4618-907d-5c91f3e98f26');\n",
              "          const dataTable =\n",
              "            await google.colab.kernel.invokeFunction('convertToInteractive',\n",
              "                                                     [key], {});\n",
              "          if (!dataTable) return;\n",
              "\n",
              "          const docLinkHtml = 'Like what you see? Visit the ' +\n",
              "            '<a target=\"_blank\" href=https://colab.research.google.com/notebooks/data_table.ipynb>data table notebook</a>'\n",
              "            + ' to learn more about interactive tables.';\n",
              "          element.innerHTML = '';\n",
              "          dataTable['output_type'] = 'display_data';\n",
              "          await google.colab.output.renderOutput(dataTable, element);\n",
              "          const docLink = document.createElement('div');\n",
              "          docLink.innerHTML = docLinkHtml;\n",
              "          element.appendChild(docLink);\n",
              "        }\n",
              "      </script>\n",
              "    </div>\n",
              "  </div>\n",
              "  "
            ]
          },
          "metadata": {},
          "execution_count": 5
        }
      ]
    },
    {
      "cell_type": "code",
      "source": [
        "df.describe()"
      ],
      "metadata": {
        "colab": {
          "base_uri": "https://localhost:8080/",
          "height": 300
        },
        "id": "WHErBBNeRgAa",
        "outputId": "29431d45-2633-45fa-97e1-0540f484cc45"
      },
      "execution_count": 6,
      "outputs": [
        {
          "output_type": "execute_result",
          "data": {
            "text/plain": [
              "                ID    Building  Year of sale  Month of sale  Property #  \\\n",
              "count   267.000000  267.000000    195.000000     195.000000  267.000000   \n",
              "mean   2975.142322    2.947566   2006.333333       7.271795   27.580524   \n",
              "std    1392.197474    1.391794      1.072941       3.378674   15.361437   \n",
              "min    1002.000000    1.000000   2004.000000       1.000000    1.000000   \n",
              "25%    2015.500000    2.000000   2006.000000       4.000000   14.500000   \n",
              "50%    3024.000000    3.000000   2007.000000       8.000000   28.000000   \n",
              "75%    4031.500000    4.000000   2007.000000      10.000000   40.000000   \n",
              "max    5052.000000    5.000000   2010.000000      12.000000   59.000000   \n",
              "\n",
              "        Area (ft.)          Price  \n",
              "count   267.000000     267.000000  \n",
              "mean    936.221113  281171.901501  \n",
              "std     284.895016   89119.120849  \n",
              "min     410.709200  117564.071600  \n",
              "25%     756.212800  217553.056400  \n",
              "50%     798.284400  249075.656800  \n",
              "75%    1121.945200  326964.852200  \n",
              "max    1942.502800  538271.735600  "
            ],
            "text/html": [
              "\n",
              "  <div id=\"df-3bc2a6ca-bff5-4844-9e58-443b30b0b967\">\n",
              "    <div class=\"colab-df-container\">\n",
              "      <div>\n",
              "<style scoped>\n",
              "    .dataframe tbody tr th:only-of-type {\n",
              "        vertical-align: middle;\n",
              "    }\n",
              "\n",
              "    .dataframe tbody tr th {\n",
              "        vertical-align: top;\n",
              "    }\n",
              "\n",
              "    .dataframe thead th {\n",
              "        text-align: right;\n",
              "    }\n",
              "</style>\n",
              "<table border=\"1\" class=\"dataframe\">\n",
              "  <thead>\n",
              "    <tr style=\"text-align: right;\">\n",
              "      <th></th>\n",
              "      <th>ID</th>\n",
              "      <th>Building</th>\n",
              "      <th>Year of sale</th>\n",
              "      <th>Month of sale</th>\n",
              "      <th>Property #</th>\n",
              "      <th>Area (ft.)</th>\n",
              "      <th>Price</th>\n",
              "    </tr>\n",
              "  </thead>\n",
              "  <tbody>\n",
              "    <tr>\n",
              "      <th>count</th>\n",
              "      <td>267.000000</td>\n",
              "      <td>267.000000</td>\n",
              "      <td>195.000000</td>\n",
              "      <td>195.000000</td>\n",
              "      <td>267.000000</td>\n",
              "      <td>267.000000</td>\n",
              "      <td>267.000000</td>\n",
              "    </tr>\n",
              "    <tr>\n",
              "      <th>mean</th>\n",
              "      <td>2975.142322</td>\n",
              "      <td>2.947566</td>\n",
              "      <td>2006.333333</td>\n",
              "      <td>7.271795</td>\n",
              "      <td>27.580524</td>\n",
              "      <td>936.221113</td>\n",
              "      <td>281171.901501</td>\n",
              "    </tr>\n",
              "    <tr>\n",
              "      <th>std</th>\n",
              "      <td>1392.197474</td>\n",
              "      <td>1.391794</td>\n",
              "      <td>1.072941</td>\n",
              "      <td>3.378674</td>\n",
              "      <td>15.361437</td>\n",
              "      <td>284.895016</td>\n",
              "      <td>89119.120849</td>\n",
              "    </tr>\n",
              "    <tr>\n",
              "      <th>min</th>\n",
              "      <td>1002.000000</td>\n",
              "      <td>1.000000</td>\n",
              "      <td>2004.000000</td>\n",
              "      <td>1.000000</td>\n",
              "      <td>1.000000</td>\n",
              "      <td>410.709200</td>\n",
              "      <td>117564.071600</td>\n",
              "    </tr>\n",
              "    <tr>\n",
              "      <th>25%</th>\n",
              "      <td>2015.500000</td>\n",
              "      <td>2.000000</td>\n",
              "      <td>2006.000000</td>\n",
              "      <td>4.000000</td>\n",
              "      <td>14.500000</td>\n",
              "      <td>756.212800</td>\n",
              "      <td>217553.056400</td>\n",
              "    </tr>\n",
              "    <tr>\n",
              "      <th>50%</th>\n",
              "      <td>3024.000000</td>\n",
              "      <td>3.000000</td>\n",
              "      <td>2007.000000</td>\n",
              "      <td>8.000000</td>\n",
              "      <td>28.000000</td>\n",
              "      <td>798.284400</td>\n",
              "      <td>249075.656800</td>\n",
              "    </tr>\n",
              "    <tr>\n",
              "      <th>75%</th>\n",
              "      <td>4031.500000</td>\n",
              "      <td>4.000000</td>\n",
              "      <td>2007.000000</td>\n",
              "      <td>10.000000</td>\n",
              "      <td>40.000000</td>\n",
              "      <td>1121.945200</td>\n",
              "      <td>326964.852200</td>\n",
              "    </tr>\n",
              "    <tr>\n",
              "      <th>max</th>\n",
              "      <td>5052.000000</td>\n",
              "      <td>5.000000</td>\n",
              "      <td>2010.000000</td>\n",
              "      <td>12.000000</td>\n",
              "      <td>59.000000</td>\n",
              "      <td>1942.502800</td>\n",
              "      <td>538271.735600</td>\n",
              "    </tr>\n",
              "  </tbody>\n",
              "</table>\n",
              "</div>\n",
              "      <button class=\"colab-df-convert\" onclick=\"convertToInteractive('df-3bc2a6ca-bff5-4844-9e58-443b30b0b967')\"\n",
              "              title=\"Convert this dataframe to an interactive table.\"\n",
              "              style=\"display:none;\">\n",
              "        \n",
              "  <svg xmlns=\"http://www.w3.org/2000/svg\" height=\"24px\"viewBox=\"0 0 24 24\"\n",
              "       width=\"24px\">\n",
              "    <path d=\"M0 0h24v24H0V0z\" fill=\"none\"/>\n",
              "    <path d=\"M18.56 5.44l.94 2.06.94-2.06 2.06-.94-2.06-.94-.94-2.06-.94 2.06-2.06.94zm-11 1L8.5 8.5l.94-2.06 2.06-.94-2.06-.94L8.5 2.5l-.94 2.06-2.06.94zm10 10l.94 2.06.94-2.06 2.06-.94-2.06-.94-.94-2.06-.94 2.06-2.06.94z\"/><path d=\"M17.41 7.96l-1.37-1.37c-.4-.4-.92-.59-1.43-.59-.52 0-1.04.2-1.43.59L10.3 9.45l-7.72 7.72c-.78.78-.78 2.05 0 2.83L4 21.41c.39.39.9.59 1.41.59.51 0 1.02-.2 1.41-.59l7.78-7.78 2.81-2.81c.8-.78.8-2.07 0-2.86zM5.41 20L4 18.59l7.72-7.72 1.47 1.35L5.41 20z\"/>\n",
              "  </svg>\n",
              "      </button>\n",
              "      \n",
              "  <style>\n",
              "    .colab-df-container {\n",
              "      display:flex;\n",
              "      flex-wrap:wrap;\n",
              "      gap: 12px;\n",
              "    }\n",
              "\n",
              "    .colab-df-convert {\n",
              "      background-color: #E8F0FE;\n",
              "      border: none;\n",
              "      border-radius: 50%;\n",
              "      cursor: pointer;\n",
              "      display: none;\n",
              "      fill: #1967D2;\n",
              "      height: 32px;\n",
              "      padding: 0 0 0 0;\n",
              "      width: 32px;\n",
              "    }\n",
              "\n",
              "    .colab-df-convert:hover {\n",
              "      background-color: #E2EBFA;\n",
              "      box-shadow: 0px 1px 2px rgba(60, 64, 67, 0.3), 0px 1px 3px 1px rgba(60, 64, 67, 0.15);\n",
              "      fill: #174EA6;\n",
              "    }\n",
              "\n",
              "    [theme=dark] .colab-df-convert {\n",
              "      background-color: #3B4455;\n",
              "      fill: #D2E3FC;\n",
              "    }\n",
              "\n",
              "    [theme=dark] .colab-df-convert:hover {\n",
              "      background-color: #434B5C;\n",
              "      box-shadow: 0px 1px 3px 1px rgba(0, 0, 0, 0.15);\n",
              "      filter: drop-shadow(0px 1px 2px rgba(0, 0, 0, 0.3));\n",
              "      fill: #FFFFFF;\n",
              "    }\n",
              "  </style>\n",
              "\n",
              "      <script>\n",
              "        const buttonEl =\n",
              "          document.querySelector('#df-3bc2a6ca-bff5-4844-9e58-443b30b0b967 button.colab-df-convert');\n",
              "        buttonEl.style.display =\n",
              "          google.colab.kernel.accessAllowed ? 'block' : 'none';\n",
              "\n",
              "        async function convertToInteractive(key) {\n",
              "          const element = document.querySelector('#df-3bc2a6ca-bff5-4844-9e58-443b30b0b967');\n",
              "          const dataTable =\n",
              "            await google.colab.kernel.invokeFunction('convertToInteractive',\n",
              "                                                     [key], {});\n",
              "          if (!dataTable) return;\n",
              "\n",
              "          const docLinkHtml = 'Like what you see? Visit the ' +\n",
              "            '<a target=\"_blank\" href=https://colab.research.google.com/notebooks/data_table.ipynb>data table notebook</a>'\n",
              "            + ' to learn more about interactive tables.';\n",
              "          element.innerHTML = '';\n",
              "          dataTable['output_type'] = 'display_data';\n",
              "          await google.colab.output.renderOutput(dataTable, element);\n",
              "          const docLink = document.createElement('div');\n",
              "          docLink.innerHTML = docLinkHtml;\n",
              "          element.appendChild(docLink);\n",
              "        }\n",
              "      </script>\n",
              "    </div>\n",
              "  </div>\n",
              "  "
            ]
          },
          "metadata": {},
          "execution_count": 6
        }
      ]
    },
    {
      "cell_type": "code",
      "source": [
        "df.dtypes"
      ],
      "metadata": {
        "colab": {
          "base_uri": "https://localhost:8080/"
        },
        "id": "kgllSAs4R1Dz",
        "outputId": "bd670919-5aee-45d9-87f6-f0269602f5df"
      },
      "execution_count": 7,
      "outputs": [
        {
          "output_type": "execute_result",
          "data": {
            "text/plain": [
              "ID                    int64\n",
              "Building              int64\n",
              "Year of sale        float64\n",
              "Month of sale       float64\n",
              "Type of property     object\n",
              "Property #            int64\n",
              "Area (ft.)          float64\n",
              "Price               float64\n",
              "Status               object\n",
              "dtype: object"
            ]
          },
          "metadata": {},
          "execution_count": 7
        }
      ]
    },
    {
      "cell_type": "code",
      "source": [
        "df= df.astype({'Status': 'category'})\n",
        "df.dtypes"
      ],
      "metadata": {
        "colab": {
          "base_uri": "https://localhost:8080/"
        },
        "id": "jzmIZPQOTzVZ",
        "outputId": "bfcd0bd6-8b7e-4234-e0bc-6a4368067352"
      },
      "execution_count": 8,
      "outputs": [
        {
          "output_type": "execute_result",
          "data": {
            "text/plain": [
              "ID                     int64\n",
              "Building               int64\n",
              "Year of sale         float64\n",
              "Month of sale        float64\n",
              "Type of property      object\n",
              "Property #             int64\n",
              "Area (ft.)           float64\n",
              "Price                float64\n",
              "Status              category\n",
              "dtype: object"
            ]
          },
          "metadata": {},
          "execution_count": 8
        }
      ]
    },
    {
      "cell_type": "code",
      "source": [
        "fig = plt.figure(figsize = (15,20))\n",
        "ax = fig.gca()\n",
        "df.hist(ax = ax)"
      ],
      "metadata": {
        "colab": {
          "base_uri": "https://localhost:8080/",
          "height": 1000
        },
        "id": "VFQlW4p7WD67",
        "outputId": "befd50e7-0b86-4b90-9897-70f57a1c337a"
      },
      "execution_count": 9,
      "outputs": [
        {
          "output_type": "stream",
          "name": "stderr",
          "text": [
            "<ipython-input-9-79d59cfc256a>:3: UserWarning: To output multiple subplots, the figure containing the passed axes is being cleared\n",
            "  df.hist(ax = ax)\n"
          ]
        },
        {
          "output_type": "execute_result",
          "data": {
            "text/plain": [
              "array([[<AxesSubplot:title={'center':'ID'}>,\n",
              "        <AxesSubplot:title={'center':'Building'}>,\n",
              "        <AxesSubplot:title={'center':'Year of sale'}>],\n",
              "       [<AxesSubplot:title={'center':'Month of sale'}>,\n",
              "        <AxesSubplot:title={'center':'Property #'}>,\n",
              "        <AxesSubplot:title={'center':'Area (ft.)'}>],\n",
              "       [<AxesSubplot:title={'center':'Price'}>, <AxesSubplot:>,\n",
              "        <AxesSubplot:>]], dtype=object)"
            ]
          },
          "metadata": {},
          "execution_count": 9
        },
        {
          "output_type": "display_data",
          "data": {
            "text/plain": [
              "<Figure size 1080x1440 with 9 Axes>"
            ],
            "image/png": "[encoded data removed]"
          },
          "metadata": {
            "needs_background": "light"
          }
        }
      ]
    },
    {
      "cell_type": "code",
      "source": [
        "fig = plt.figure(figsize = (10,5))\n",
        "ax = fig.gca()\n",
        "df[\"Area (ft.)\"].hist(ax=ax, bins=70)"
      ],
      "metadata": {
        "colab": {
          "base_uri": "https://localhost:8080/",
          "height": 337
        },
        "id": "23lIEt1EWaJG",
        "outputId": "5e6a992f-2897-41d6-eb2f-15ea7c434ea8"
      },
      "execution_count": 11,
      "outputs": [
        {
          "output_type": "execute_result",
          "data": {
            "text/plain": [
              "<AxesSubplot:>"
            ]
          },
          "metadata": {},
          "execution_count": 11
        },
        {
          "output_type": "display_data",
          "data": {
            "text/plain": [
              "<Figure size 720x360 with 1 Axes>"
            ],
            "image/png": "[encoded data removed]"
          },
          "metadata": {
            "needs_background": "light"
          }
        }
      ]
    },
    {
      "cell_type": "code",
      "source": [
        "fig = plt.figure(figsize = (10,5))\n",
        "ax = fig.gca()\n",
        "df[\"Price\"].hist(ax=ax, bins=70)"
      ],
      "metadata": {
        "colab": {
          "base_uri": "https://localhost:8080/",
          "height": 337
        },
        "id": "_bCPea24W_BF",
        "outputId": "76b7488c-33bc-4b4a-bda1-d4e88340a385"
      },
      "execution_count": 12,
      "outputs": [
        {
          "output_type": "execute_result",
          "data": {
            "text/plain": [
              "<AxesSubplot:>"
            ]
          },
          "metadata": {},
          "execution_count": 12
        },
        {
          "output_type": "display_data",
          "data": {
            "text/plain": [
              "<Figure size 720x360 with 1 Axes>"
            ],
            "image/png": "[encoded data removed]"
          },
          "metadata": {
            "needs_background": "light"
          }
        }
      ]
    },
    {
      "cell_type": "code",
      "source": [
        "x = df[df[\"Building\"]== 1][\"Price\"]\n",
        "y = df[df[\"Building\"]== 5][\"Price\"]\n",
        "\n",
        "bins = 20\n",
        "\n",
        "plt.hist(x, bins=bins, alpha=0.5, label='Price of Building 1')\n",
        "plt.hist(y, bins=bins, alpha=0.5, label='Price of Building 5')\n",
        "plt.legend(loc='upper right')\n",
        "plt.show()"
      ],
      "metadata": {
        "colab": {
          "base_uri": "https://localhost:8080/",
          "height": 265
        },
        "id": "8HyOflWFX8cy",
        "outputId": "6be536fa-b8b2-4aa2-a8fd-0c7b84994b1a"
      },
      "execution_count": 15,
      "outputs": [
        {
          "output_type": "display_data",
          "data": {
            "text/plain": [
              "<Figure size 432x288 with 1 Axes>"
            ],
            "image/png": "[encoded data removed]"
          },
          "metadata": {
            "needs_background": "light"
          }
        }
      ]
    },
    {
      "cell_type": "code",
      "source": [
        "df[\"Status\"].unique()"
      ],
      "metadata": {
        "colab": {
          "base_uri": "https://localhost:8080/"
        },
        "id": "9u6KdlQZZ6xs",
        "outputId": "6382507c-5a80-4337-8393-f2bf4a9ad5be"
      },
      "execution_count": 16,
      "outputs": [
        {
          "output_type": "execute_result",
          "data": {
            "text/plain": [
              "['Sold', NaN]\n",
              "Categories (1, object): ['Sold']"
            ]
          },
          "metadata": {},
          "execution_count": 16
        }
      ]
    },
    {
      "cell_type": "code",
      "source": [
        "x = df[df[\"Status\"]== \"Sold\"][\"Price\"]\n",
        "print(x.shape)\n",
        "y = df[df[\"Status\"].isnull()][\"Price\"]\n",
        "print(y.shape)"
      ],
      "metadata": {
        "colab": {
          "base_uri": "https://localhost:8080/"
        },
        "id": "7K0fAN73aPVT",
        "outputId": "26677493-4979-4b2b-8a86-95b66e4cb149"
      },
      "execution_count": 22,
      "outputs": [
        {
          "output_type": "stream",
          "name": "stdout",
          "text": [
            "(195,)\n",
            "(72,)\n"
          ]
        }
      ]
    },
    {
      "cell_type": "code",
      "source": [
        "x = df[df[\"Status\"]== \"Sold\"][\"Price\"]\n",
        "y = df[df[\"Status\"].isnull()][\"Price\"]\n",
        "\n",
        "bins = 20\n",
        "\n",
        "plt.hist(x, bins=bins, alpha=0.5, label='Price of sold properties')\n",
        "plt.hist(y, bins=bins, alpha=0.5, label='Price of unsold properties')\n",
        "plt.legend(loc='upper right')\n",
        "plt.show()"
      ],
      "metadata": {
        "colab": {
          "base_uri": "https://localhost:8080/",
          "height": 265
        },
        "id": "LxiHC2sObP2J",
        "outputId": "dd4c1cc1-7d1c-4f8b-838c-4703575781d4"
      },
      "execution_count": 23,
      "outputs": [
        {
          "output_type": "display_data",
          "data": {
            "text/plain": [
              "<Figure size 432x288 with 1 Axes>"
            ],
            "image/png": "[encoded data removed]"
          },
          "metadata": {
            "needs_background": "light"
          }
        }
      ]
    },
    {
      "cell_type": "code",
      "source": [
        "ax = df.plot.scatter(x='Price', y='Area (ft.)', figsize=(10, 5), marker='$\\u25EF$')\n",
        "ax.set_xlabel('Price')\n",
        "ax.set_ylabel('Area')\n",
        "ax.axhline(0, color='grey', lw=1)\n",
        "ax.axvline(0, color='grey', lw=1)\n",
        "\n",
        "plt.tight_layout()\n",
        "plt.show()"
      ],
      "metadata": {
        "colab": {
          "base_uri": "https://localhost:8080/",
          "height": 369
        },
        "id": "yW6TMYcocTDh",
        "outputId": "c61b9fa7-427d-41e6-c20d-5676d2962a3d"
      },
      "execution_count": 25,
      "outputs": [
        {
          "output_type": "display_data",
          "data": {
            "text/plain": [
              "<Figure size 720x360 with 1 Axes>"
            ],
            "image/png": "[encoded data removed]"
          },
          "metadata": {
            "needs_background": "light"
          }
        }
      ]
    },
    {
      "cell_type": "code",
      "source": [
        "df.corr(method=\"pearson\")"
      ],
      "metadata": {
        "colab": {
          "base_uri": "https://localhost:8080/",
          "height": 268
        },
        "id": "sCg5dt8udP2x",
        "outputId": "fbf2de43-16d9-4841-dea9-cbc3208f90af"
      },
      "execution_count": 26,
      "outputs": [
        {
          "output_type": "execute_result",
          "data": {
            "text/plain": [
              "                     ID  Building  Year of sale  Month of sale  Property #  \\\n",
              "ID             1.000000  0.999939      0.728397       0.166359    0.031451   \n",
              "Building       0.999939  1.000000      0.727657       0.166992    0.020420   \n",
              "Year of sale   0.728397  0.727657      1.000000      -0.111858    0.119424   \n",
              "Month of sale  0.166359  0.166992     -0.111858       1.000000   -0.039440   \n",
              "Property #     0.031451  0.020420      0.119424      -0.039440    1.000000   \n",
              "Area (ft.)     0.001286 -0.001998     -0.020719      -0.041617    0.297503   \n",
              "Price          0.003574  0.000487     -0.012964      -0.031861    0.279711   \n",
              "\n",
              "               Area (ft.)     Price  \n",
              "ID               0.001286  0.003574  \n",
              "Building        -0.001998  0.000487  \n",
              "Year of sale    -0.020719 -0.012964  \n",
              "Month of sale   -0.041617 -0.031861  \n",
              "Property #       0.297503  0.279711  \n",
              "Area (ft.)       1.000000  0.951087  \n",
              "Price            0.951087  1.000000  "
            ],
            "text/html": [
              "\n",
              "  <div id=\"df-1c999f84-3c93-48aa-a888-0e5f05ab0283\">\n",
              "    <div class=\"colab-df-container\">\n",
              "      <div>\n",
              "<style scoped>\n",
              "    .dataframe tbody tr th:only-of-type {\n",
              "        vertical-align: middle;\n",
              "    }\n",
              "\n",
              "    .dataframe tbody tr th {\n",
              "        vertical-align: top;\n",
              "    }\n",
              "\n",
              "    .dataframe thead th {\n",
              "        text-align: right;\n",
              "    }\n",
              "</style>\n",
              "<table border=\"1\" class=\"dataframe\">\n",
              "  <thead>\n",
              "    <tr style=\"text-align: right;\">\n",
              "      <th></th>\n",
              "      <th>ID</th>\n",
              "      <th>Building</th>\n",
              "      <th>Year of sale</th>\n",
              "      <th>Month of sale</th>\n",
              "      <th>Property #</th>\n",
              "      <th>Area (ft.)</th>\n",
              "      <th>Price</th>\n",
              "    </tr>\n",
              "  </thead>\n",
              "  <tbody>\n",
              "    <tr>\n",
              "      <th>ID</th>\n",
              "      <td>1.000000</td>\n",
              "      <td>0.999939</td>\n",
              "      <td>0.728397</td>\n",
              "      <td>0.166359</td>\n",
              "      <td>0.031451</td>\n",
              "      <td>0.001286</td>\n",
              "      <td>0.003574</td>\n",
              "    </tr>\n",
              "    <tr>\n",
              "      <th>Building</th>\n",
              "      <td>0.999939</td>\n",
              "      <td>1.000000</td>\n",
              "      <td>0.727657</td>\n",
              "      <td>0.166992</td>\n",
              "      <td>0.020420</td>\n",
              "      <td>-0.001998</td>\n",
              "      <td>0.000487</td>\n",
              "    </tr>\n",
              "    <tr>\n",
              "      <th>Year of sale</th>\n",
              "      <td>0.728397</td>\n",
              "      <td>0.727657</td>\n",
              "      <td>1.000000</td>\n",
              "      <td>-0.111858</td>\n",
              "      <td>0.119424</td>\n",
              "      <td>-0.020719</td>\n",
              "      <td>-0.012964</td>\n",
              "    </tr>\n",
              "    <tr>\n",
              "      <th>Month of sale</th>\n",
              "      <td>0.166359</td>\n",
              "      <td>0.166992</td>\n",
              "      <td>-0.111858</td>\n",
              "      <td>1.000000</td>\n",
              "      <td>-0.039440</td>\n",
              "      <td>-0.041617</td>\n",
              "      <td>-0.031861</td>\n",
              "    </tr>\n",
              "    <tr>\n",
              "      <th>Property #</th>\n",
              "      <td>0.031451</td>\n",
              "      <td>0.020420</td>\n",
              "      <td>0.119424</td>\n",
              "      <td>-0.039440</td>\n",
              "      <td>1.000000</td>\n",
              "      <td>0.297503</td>\n",
              "      <td>0.279711</td>\n",
              "    </tr>\n",
              "    <tr>\n",
              "      <th>Area (ft.)</th>\n",
              "      <td>0.001286</td>\n",
              "      <td>-0.001998</td>\n",
              "      <td>-0.020719</td>\n",
              "      <td>-0.041617</td>\n",
              "      <td>0.297503</td>\n",
              "      <td>1.000000</td>\n",
              "      <td>0.951087</td>\n",
              "    </tr>\n",
              "    <tr>\n",
              "      <th>Price</th>\n",
              "      <td>0.003574</td>\n",
              "      <td>0.000487</td>\n",
              "      <td>-0.012964</td>\n",
              "      <td>-0.031861</td>\n",
              "      <td>0.279711</td>\n",
              "      <td>0.951087</td>\n",
              "      <td>1.000000</td>\n",
              "    </tr>\n",
              "  </tbody>\n",
              "</table>\n",
              "</div>\n",
              "      <button class=\"colab-df-convert\" onclick=\"convertToInteractive('df-1c999f84-3c93-48aa-a888-0e5f05ab0283')\"\n",
              "              title=\"Convert this dataframe to an interactive table.\"\n",
              "              style=\"display:none;\">\n",
              "        \n",
              "  <svg xmlns=\"http://www.w3.org/2000/svg\" height=\"24px\"viewBox=\"0 0 24 24\"\n",
              "       width=\"24px\">\n",
              "    <path d=\"M0 0h24v24H0V0z\" fill=\"none\"/>\n",
              "    <path d=\"M18.56 5.44l.94 2.06.94-2.06 2.06-.94-2.06-.94-.94-2.06-.94 2.06-2.06.94zm-11 1L8.5 8.5l.94-2.06 2.06-.94-2.06-.94L8.5 2.5l-.94 2.06-2.06.94zm10 10l.94 2.06.94-2.06 2.06-.94-2.06-.94-.94-2.06-.94 2.06-2.06.94z\"/><path d=\"M17.41 7.96l-1.37-1.37c-.4-.4-.92-.59-1.43-.59-.52 0-1.04.2-1.43.59L10.3 9.45l-7.72 7.72c-.78.78-.78 2.05 0 2.83L4 21.41c.39.39.9.59 1.41.59.51 0 1.02-.2 1.41-.59l7.78-7.78 2.81-2.81c.8-.78.8-2.07 0-2.86zM5.41 20L4 18.59l7.72-7.72 1.47 1.35L5.41 20z\"/>\n",
              "  </svg>\n",
              "      </button>\n",
              "      \n",
              "  <style>\n",
              "    .colab-df-container {\n",
              "      display:flex;\n",
              "      flex-wrap:wrap;\n",
              "      gap: 12px;\n",
              "    }\n",
              "\n",
              "    .colab-df-convert {\n",
              "      background-color: #E8F0FE;\n",
              "      border: none;\n",
              "      border-radius: 50%;\n",
              "      cursor: pointer;\n",
              "      display: none;\n",
              "      fill: #1967D2;\n",
              "      height: 32px;\n",
              "      padding: 0 0 0 0;\n",
              "      width: 32px;\n",
              "    }\n",
              "\n",
              "    .colab-df-convert:hover {\n",
              "      background-color: #E2EBFA;\n",
              "      box-shadow: 0px 1px 2px rgba(60, 64, 67, 0.3), 0px 1px 3px 1px rgba(60, 64, 67, 0.15);\n",
              "      fill: #174EA6;\n",
              "    }\n",
              "\n",
              "    [theme=dark] .colab-df-convert {\n",
              "      background-color: #3B4455;\n",
              "      fill: #D2E3FC;\n",
              "    }\n",
              "\n",
              "    [theme=dark] .colab-df-convert:hover {\n",
              "      background-color: #434B5C;\n",
              "      box-shadow: 0px 1px 3px 1px rgba(0, 0, 0, 0.15);\n",
              "      filter: drop-shadow(0px 1px 2px rgba(0, 0, 0, 0.3));\n",
              "      fill: #FFFFFF;\n",
              "    }\n",
              "  </style>\n",
              "\n",
              "      <script>\n",
              "        const buttonEl =\n",
              "          document.querySelector('#df-1c999f84-3c93-48aa-a888-0e5f05ab0283 button.colab-df-convert');\n",
              "        buttonEl.style.display =\n",
              "          google.colab.kernel.accessAllowed ? 'block' : 'none';\n",
              "\n",
              "        async function convertToInteractive(key) {\n",
              "          const element = document.querySelector('#df-1c999f84-3c93-48aa-a888-0e5f05ab0283');\n",
              "          const dataTable =\n",
              "            await google.colab.kernel.invokeFunction('convertToInteractive',\n",
              "                                                     [key], {});\n",
              "          if (!dataTable) return;\n",
              "\n",
              "          const docLinkHtml = 'Like what you see? Visit the ' +\n",
              "            '<a target=\"_blank\" href=https://colab.research.google.com/notebooks/data_table.ipynb>data table notebook</a>'\n",
              "            + ' to learn more about interactive tables.';\n",
              "          element.innerHTML = '';\n",
              "          dataTable['output_type'] = 'display_data';\n",
              "          await google.colab.output.renderOutput(dataTable, element);\n",
              "          const docLink = document.createElement('div');\n",
              "          docLink.innerHTML = docLinkHtml;\n",
              "          element.appendChild(docLink);\n",
              "        }\n",
              "      </script>\n",
              "    </div>\n",
              "  </div>\n",
              "  "
            ]
          },
          "metadata": {},
          "execution_count": 26
        }
      ]
    },
    {
      "cell_type": "code",
      "source": [
        "df.cov()"
      ],
      "metadata": {
        "colab": {
          "base_uri": "https://localhost:8080/",
          "height": 268
        },
        "id": "hiakRV5Ed-1G",
        "outputId": "264fe45b-a72f-4eb6-bad0-f3465b5a46ea"
      },
      "execution_count": 27,
      "outputs": [
        {
          "output_type": "execute_result",
          "data": {
            "text/plain": [
              "                         ID     Building  Year of sale  Month of sale  \\\n",
              "ID             1.938214e+06  1937.533806    972.702749     699.564129   \n",
              "Building       1.937534e+03     1.937090      0.970790       0.701560   \n",
              "Year of sale   9.727027e+02     0.970790      1.151203      -0.405498   \n",
              "Month of sale  6.995641e+02     0.701560     -0.405498      11.415437   \n",
              "Property #     6.726088e+02     0.436569      1.900344      -1.976262   \n",
              "Area (ft.)     5.102033e+02    -0.792296     -5.813048     -36.767828   \n",
              "Price          4.434169e+05    60.429144  -1114.573438   -8625.728343   \n",
              "\n",
              "                  Property #    Area (ft.)         Price  \n",
              "ID                672.608797  5.102033e+02  4.434169e+05  \n",
              "Building            0.436569 -7.922963e-01  6.042914e+01  \n",
              "Year of sale        1.900344 -5.813048e+00 -1.114573e+03  \n",
              "Month of sale      -1.976262 -3.676783e+01 -8.625728e+03  \n",
              "Property #        235.973755  1.301991e+03  3.829237e+05  \n",
              "Area (ft.)       1301.991127  8.116517e+04  2.414772e+07  \n",
              "Price          382923.718949  2.414772e+07  7.942218e+09  "
            ],
            "text/html": [
              "\n",
              "  <div id=\"df-499b27fd-669f-41ba-89b2-560c07699e8a\">\n",
              "    <div class=\"colab-df-container\">\n",
              "      <div>\n",
              "<style scoped>\n",
              "    .dataframe tbody tr th:only-of-type {\n",
              "        vertical-align: middle;\n",
              "    }\n",
              "\n",
              "    .dataframe tbody tr th {\n",
              "        vertical-align: top;\n",
              "    }\n",
              "\n",
              "    .dataframe thead th {\n",
              "        text-align: right;\n",
              "    }\n",
              "</style>\n",
              "<table border=\"1\" class=\"dataframe\">\n",
              "  <thead>\n",
              "    <tr style=\"text-align: right;\">\n",
              "      <th></th>\n",
              "      <th>ID</th>\n",
              "      <th>Building</th>\n",
              "      <th>Year of sale</th>\n",
              "      <th>Month of sale</th>\n",
              "      <th>Property #</th>\n",
              "      <th>Area (ft.)</th>\n",
              "      <th>Price</th>\n",
              "    </tr>\n",
              "  </thead>\n",
              "  <tbody>\n",
              "    <tr>\n",
              "      <th>ID</th>\n",
              "      <td>1.938214e+06</td>\n",
              "      <td>1937.533806</td>\n",
              "      <td>972.702749</td>\n",
              "      <td>699.564129</td>\n",
              "      <td>672.608797</td>\n",
              "      <td>5.102033e+02</td>\n",
              "      <td>4.434169e+05</td>\n",
              "    </tr>\n",
              "    <tr>\n",
              "      <th>Building</th>\n",
              "      <td>1.937534e+03</td>\n",
              "      <td>1.937090</td>\n",
              "      <td>0.970790</td>\n",
              "      <td>0.701560</td>\n",
              "      <td>0.436569</td>\n",
              "      <td>-7.922963e-01</td>\n",
              "      <td>6.042914e+01</td>\n",
              "    </tr>\n",
              "    <tr>\n",
              "      <th>Year of sale</th>\n",
              "      <td>9.727027e+02</td>\n",
              "      <td>0.970790</td>\n",
              "      <td>1.151203</td>\n",
              "      <td>-0.405498</td>\n",
              "      <td>1.900344</td>\n",
              "      <td>-5.813048e+00</td>\n",
              "      <td>-1.114573e+03</td>\n",
              "    </tr>\n",
              "    <tr>\n",
              "      <th>Month of sale</th>\n",
              "      <td>6.995641e+02</td>\n",
              "      <td>0.701560</td>\n",
              "      <td>-0.405498</td>\n",
              "      <td>11.415437</td>\n",
              "      <td>-1.976262</td>\n",
              "      <td>-3.676783e+01</td>\n",
              "      <td>-8.625728e+03</td>\n",
              "    </tr>\n",
              "    <tr>\n",
              "      <th>Property #</th>\n",
              "      <td>6.726088e+02</td>\n",
              "      <td>0.436569</td>\n",
              "      <td>1.900344</td>\n",
              "      <td>-1.976262</td>\n",
              "      <td>235.973755</td>\n",
              "      <td>1.301991e+03</td>\n",
              "      <td>3.829237e+05</td>\n",
              "    </tr>\n",
              "    <tr>\n",
              "      <th>Area (ft.)</th>\n",
              "      <td>5.102033e+02</td>\n",
              "      <td>-0.792296</td>\n",
              "      <td>-5.813048</td>\n",
              "      <td>-36.767828</td>\n",
              "      <td>1301.991127</td>\n",
              "      <td>8.116517e+04</td>\n",
              "      <td>2.414772e+07</td>\n",
              "    </tr>\n",
              "    <tr>\n",
              "      <th>Price</th>\n",
              "      <td>4.434169e+05</td>\n",
              "      <td>60.429144</td>\n",
              "      <td>-1114.573438</td>\n",
              "      <td>-8625.728343</td>\n",
              "      <td>382923.718949</td>\n",
              "      <td>2.414772e+07</td>\n",
              "      <td>7.942218e+09</td>\n",
              "    </tr>\n",
              "  </tbody>\n",
              "</table>\n",
              "</div>\n",
              "      <button class=\"colab-df-convert\" onclick=\"convertToInteractive('df-499b27fd-669f-41ba-89b2-560c07699e8a')\"\n",
              "              title=\"Convert this dataframe to an interactive table.\"\n",
              "              style=\"display:none;\">\n",
              "        \n",
              "  <svg xmlns=\"http://www.w3.org/2000/svg\" height=\"24px\"viewBox=\"0 0 24 24\"\n",
              "       width=\"24px\">\n",
              "    <path d=\"M0 0h24v24H0V0z\" fill=\"none\"/>\n",
              "    <path d=\"M18.56 5.44l.94 2.06.94-2.06 2.06-.94-2.06-.94-.94-2.06-.94 2.06-2.06.94zm-11 1L8.5 8.5l.94-2.06 2.06-.94-2.06-.94L8.5 2.5l-.94 2.06-2.06.94zm10 10l.94 2.06.94-2.06 2.06-.94-2.06-.94-.94-2.06-.94 2.06-2.06.94z\"/><path d=\"M17.41 7.96l-1.37-1.37c-.4-.4-.92-.59-1.43-.59-.52 0-1.04.2-1.43.59L10.3 9.45l-7.72 7.72c-.78.78-.78 2.05 0 2.83L4 21.41c.39.39.9.59 1.41.59.51 0 1.02-.2 1.41-.59l7.78-7.78 2.81-2.81c.8-.78.8-2.07 0-2.86zM5.41 20L4 18.59l7.72-7.72 1.47 1.35L5.41 20z\"/>\n",
              "  </svg>\n",
              "      </button>\n",
              "      \n",
              "  <style>\n",
              "    .colab-df-container {\n",
              "      display:flex;\n",
              "      flex-wrap:wrap;\n",
              "      gap: 12px;\n",
              "    }\n",
              "\n",
              "    .colab-df-convert {\n",
              "      background-color: #E8F0FE;\n",
              "      border: none;\n",
              "      border-radius: 50%;\n",
              "      cursor: pointer;\n",
              "      display: none;\n",
              "      fill: #1967D2;\n",
              "      height: 32px;\n",
              "      padding: 0 0 0 0;\n",
              "      width: 32px;\n",
              "    }\n",
              "\n",
              "    .colab-df-convert:hover {\n",
              "      background-color: #E2EBFA;\n",
              "      box-shadow: 0px 1px 2px rgba(60, 64, 67, 0.3), 0px 1px 3px 1px rgba(60, 64, 67, 0.15);\n",
              "      fill: #174EA6;\n",
              "    }\n",
              "\n",
              "    [theme=dark] .colab-df-convert {\n",
              "      background-color: #3B4455;\n",
              "      fill: #D2E3FC;\n",
              "    }\n",
              "\n",
              "    [theme=dark] .colab-df-convert:hover {\n",
              "      background-color: #434B5C;\n",
              "      box-shadow: 0px 1px 3px 1px rgba(0, 0, 0, 0.15);\n",
              "      filter: drop-shadow(0px 1px 2px rgba(0, 0, 0, 0.3));\n",
              "      fill: #FFFFFF;\n",
              "    }\n",
              "  </style>\n",
              "\n",
              "      <script>\n",
              "        const buttonEl =\n",
              "          document.querySelector('#df-499b27fd-669f-41ba-89b2-560c07699e8a button.colab-df-convert');\n",
              "        buttonEl.style.display =\n",
              "          google.colab.kernel.accessAllowed ? 'block' : 'none';\n",
              "\n",
              "        async function convertToInteractive(key) {\n",
              "          const element = document.querySelector('#df-499b27fd-669f-41ba-89b2-560c07699e8a');\n",
              "          const dataTable =\n",
              "            await google.colab.kernel.invokeFunction('convertToInteractive',\n",
              "                                                     [key], {});\n",
              "          if (!dataTable) return;\n",
              "\n",
              "          const docLinkHtml = 'Like what you see? Visit the ' +\n",
              "            '<a target=\"_blank\" href=https://colab.research.google.com/notebooks/data_table.ipynb>data table notebook</a>'\n",
              "            + ' to learn more about interactive tables.';\n",
              "          element.innerHTML = '';\n",
              "          dataTable['output_type'] = 'display_data';\n",
              "          await google.colab.output.renderOutput(dataTable, element);\n",
              "          const docLink = document.createElement('div');\n",
              "          docLink.innerHTML = docLinkHtml;\n",
              "          element.appendChild(docLink);\n",
              "        }\n",
              "      </script>\n",
              "    </div>\n",
              "  </div>\n",
              "  "
            ]
          },
          "metadata": {},
          "execution_count": 27
        }
      ]
    },
    {
      "cell_type": "code",
      "source": [
        "count_type= df[\"Type of property\"].value_counts()\n",
        "count_year= df[\"Year of sale\"].value_counts()\n",
        "\n",
        "print(count_year)\n",
        "print(count_type)"
      ],
      "metadata": {
        "colab": {
          "base_uri": "https://localhost:8080/"
        },
        "id": "R0vH0aQWfsMl",
        "outputId": "b039cea7-e599-47fd-d514-ca165e551b81"
      },
      "execution_count": 29,
      "outputs": [
        {
          "output_type": "stream",
          "name": "stdout",
          "text": [
            "2007.0    102\n",
            "2006.0     40\n",
            "2005.0     27\n",
            "2004.0     16\n",
            "2008.0      9\n",
            "2010.0      1\n",
            "Name: Year of sale, dtype: int64\n",
            "Apartment    259\n",
            "Office         8\n",
            "Name: Type of property, dtype: int64\n"
          ]
        }
      ]
    }
  ]
}